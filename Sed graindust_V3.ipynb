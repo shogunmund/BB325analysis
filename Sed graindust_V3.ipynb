{
 "cells": [
  {
   "cell_type": "code",
   "execution_count": 1,
   "id": "4de441e7",
   "metadata": {},
   "outputs": [],
   "source": [
    "from astropy.io import fits\n",
    "from astropy.wcs import WCS\n",
    "from astropy.coordinates import SkyCoord\n",
    "import astropy.units as u\n",
    "from astropy.convolution import convolve_fft\n",
    "from radio_beam import Beam, Beams\n",
    "from photutils.aperture import SkyCircularAperture, aperture_photometry\n",
    "from matplotlib.patches import Ellipse\n",
    "from photutils.aperture import CircularAperture\n",
    "import numpy as np\n",
    "import matplotlib.pyplot as plt"
   ]
  },
  {
   "cell_type": "code",
   "execution_count": 2,
   "id": "c8bddf11",
   "metadata": {},
   "outputs": [
    {
     "name": "stdout",
     "output_type": "stream",
     "text": [
      "Filename: member.uid___A001_X2df7_X602.B335_sci.spw25_27_29_31.cont.I.pbcor.fits\n",
      "No.    Name      Ver    Type      Cards   Dimensions   Format\n",
      "  0  PRIMARY       1 PrimaryHDU     365   (192, 192, 1, 1)   float32   \n"
     ]
    }
   ],
   "source": [
    "# Cambia esta ruta por el archivo FITS\n",
    "dataset = \"member.uid___A001_X2df7_X602.B335_sci.spw25_27_29_31.cont.I.pbcor.fits\"\n",
    "\n",
    "# Abrir el FITS\n",
    "hdul = fits.open(dataset)\n",
    "header = hdul[0].header\n",
    "data = hdul[0].data.squeeze()  # quita ejes vacíos\n",
    "hdul.info()"
   ]
  },
  {
   "cell_type": "code",
   "execution_count": 3,
   "id": "d65dba52",
   "metadata": {},
   "outputs": [
    {
     "name": "stdout",
     "output_type": "stream",
     "text": [
      "forma (192, 192)\n"
     ]
    }
   ],
   "source": [
    "   print(\"forma\", data.shape)"
   ]
  },
  {
   "cell_type": "code",
   "execution_count": 4,
   "id": "1a458ebc",
   "metadata": {},
   "outputs": [
    {
     "data": {
      "text/plain": [
       "SIMPLE  =                    T /Standard FITS                                   \n",
       "BITPIX  =                  -32 /Floating point (32 bit)                         \n",
       "NAXIS   =                    4                                                  \n",
       "NAXIS1  =                  192                                                  \n",
       "NAXIS2  =                  192                                                  \n",
       "NAXIS3  =                    1                                                  \n",
       "NAXIS4  =                    1                                                  \n",
       "EXTEND  =                    T                                                  \n",
       "BSCALE  =   1.000000000000E+00 /PHYSICAL = PIXEL*BSCALE + BZERO                 \n",
       "BZERO   =   0.000000000000E+00                                                  \n",
       "BMAJ    =   2.113536993663E-04                                                  \n",
       "BMIN    =   1.758918000592E-04                                                  \n",
       "BPA     =  -5.466566848755E+01                                                  \n",
       "BTYPE   = 'Intensity'                                                           \n",
       "OBJECT  = 'B335    '                                                            \n",
       "BUNIT   = 'Jy/beam '           /Brightness (pixel) unit                         \n",
       "RADESYS = 'ICRS    '                                                            \n",
       "LONPOLE =   1.800000000000E+02                                                  \n",
       "LATPOLE =   7.568888784111E+00                                                  \n",
       "PC1_1   =   1.000000000000E+00                                                  \n",
       "PC2_1   =   0.000000000000E+00                                                  \n",
       "PC3_1   =   0.000000000000E+00                                                  \n",
       "PC4_1   =   0.000000000000E+00                                                  \n",
       "PC1_2   =   0.000000000000E+00                                                  \n",
       "PC2_2   =   1.000000000000E+00                                                  \n",
       "PC3_2   =   0.000000000000E+00                                                  \n",
       "PC4_2   =   0.000000000000E+00                                                  \n",
       "PC1_3   =   0.000000000000E+00                                                  \n",
       "PC2_3   =   0.000000000000E+00                                                  \n",
       "PC3_3   =   1.000000000000E+00                                                  \n",
       "PC4_3   =   0.000000000000E+00                                                  \n",
       "PC1_4   =   0.000000000000E+00                                                  \n",
       "PC2_4   =   0.000000000000E+00                                                  \n",
       "PC3_4   =   0.000000000000E+00                                                  \n",
       "PC4_4   =   1.000000000000E+00                                                  \n",
       "CTYPE1  = 'RA---SIN'                                                            \n",
       "CRVAL1  =   2.942529166993E+02                                                  \n",
       "CDELT1  =  -3.611111108576E-05                                                  \n",
       "CRPIX1  =   9.700000000000E+01                                                  \n",
       "CUNIT1  = 'deg     '                                                            \n",
       "CTYPE2  = 'DEC--SIN'                                                            \n",
       "CRVAL2  =   7.568888784111E+00                                                  \n",
       "CDELT2  =   3.611111108576E-05                                                  \n",
       "CRPIX2  =   9.700000000000E+01                                                  \n",
       "CUNIT2  = 'deg     '                                                            \n",
       "CTYPE3  = 'FREQ    '                                                            \n",
       "CRVAL3  =   3.978997512509E+11                                                  \n",
       "CDELT3  =   1.568189666864E+10                                                  \n",
       "CRPIX3  =   1.000000000000E+00                                                  \n",
       "CUNIT3  = 'Hz      '                                                            \n",
       "CTYPE4  = 'STOKES  '                                                            \n",
       "CRVAL4  =   1.000000000000E+00                                                  \n",
       "CDELT4  =   1.000000000000E+00                                                  \n",
       "CRPIX4  =   1.000000000000E+00                                                  \n",
       "CUNIT4  = '        '                                                            \n",
       "PV2_1   =   0.000000000000E+00                                                  \n",
       "PV2_2   =   0.000000000000E+00                                                  \n",
       "RESTFRQ =   3.909885410000E+11 /Rest Frequency (Hz)                             \n",
       "SPECSYS = 'LSRK    '           /Spectral reference frame                        \n",
       "ALTRVAL =  -5.299205709646E+06 /Alternate frequency reference value             \n",
       "ALTRPIX =   1.000000000000E+00 /Alternate frequency reference pixel             \n",
       "VELREF  =                  257 /1 LSR, 2 HEL, 3 OBS, +256 Radio                 \n",
       "COMMENT casacore non-standard usage: 4 LSD, 5 GEO, 6 SOU, 7 GAL                 \n",
       "TELESCOP= 'ALMA    '                                                            \n",
       "OBSERVER= 'adeleplunkett'                                                       \n",
       "DATE-OBS= '2022-10-24T22:08:47.424000'                                          \n",
       "TIMESYS = 'UTC     '                                                            \n",
       "OBSRA   =   2.942529165377E+02                                                  \n",
       "OBSDEC  =   7.568888784111E+00                                                  \n",
       "OBSGEO-X=   2.225142180269E+06                                                  \n",
       "OBSGEO-Y=  -5.440307370349E+06                                                  \n",
       "OBSGEO-Z=  -2.481029851874E+06                                                  \n",
       "INSTRUME= 'ALMA    '                                                            \n",
       "CASAVER = '6.4.1.12'                                                            \n",
       "CHNCHNKS=                    1                                                  \n",
       "DATAMAX =   1.659383773804E-01                                                  \n",
       "DATAMIN =  -1.167452521622E-02                                                  \n",
       "DISTANCE=   0.000000000000E+00                                                  \n",
       "FIELD   = 'B335    '                                                            \n",
       "FILNAM01= 'uid___A001_X2df7_X602'                                               \n",
       "FILNAM02= 's36_0   '                                                            \n",
       "FILNAM03= 'B335_sci'                                                            \n",
       "FILNAM04= 'spw25_27_29_31'                                                      \n",
       "FILNAM05= 'cont    '                                                            \n",
       "FILNAM06= 'I       '                                                            \n",
       "FILNAM07= 'iter1   '                                                            \n",
       "FILNAM08= 'image   '                                                            \n",
       "FILNAM09= 'pbcor   '                                                            \n",
       "GROUP   = 'N/A     '                                                            \n",
       "INTENT  = 'TARGET  '                                                            \n",
       "ITER    =                    1                                                  \n",
       "MEMAVAIL=   1.807976074219E+02                                                  \n",
       "MEMBER  = 'uid://A001/X2df7/X602'                                               \n",
       "MEMREQ  =   1.544952392578E-02                                                  \n",
       "MPIPROCS=                    8                                                  \n",
       "NFIELD  =                    1                                                  \n",
       "NFILNAM =                    9                                                  \n",
       "NPOL    =                    2                                                  \n",
       "NSPWNAM =                    4                                                  \n",
       "OFFDEC  =  -9.990000000000E+02                                                  \n",
       "OFFRA   =  -9.990000000000E+02                                                  \n",
       "PER_EB  =                    F                                                  \n",
       "PIPEVER = '2022.2.0.64'                                                         \n",
       "PROPCODE= '2022.1.00216.S'                                                      \n",
       "ROBUST  =   5.000000000000E-01                                                  \n",
       "SGOAL   = 'N/A     '                                                            \n",
       "SPECMODE= 'cont    '                                                            \n",
       "SPW     = '25,27,29,31'                                                         \n",
       "SPWISVRT=                    T                                                  \n",
       "SPWNAM01= 'X481674583#ALMA_RB_08#BB_1#SW-01'                                    \n",
       "SPWNAM02= 'X481674583#ALMA_RB_08#BB_2#SW-01'                                    \n",
       "SPWNAM03= 'X481674583#ALMA_RB_08#BB_3#SW-01'                                    \n",
       "SPWNAM04= 'X481674583#ALMA_RB_08#BB_4#SW-01'                                    \n",
       "TYPE    = 'pbcorimage'                                                          \n",
       "USEWEIGH=                    F                                                  \n",
       "VIRTSPW = '25,27,29,31'                                                         \n",
       "WEIGHT  = 'briggs  '                                                            \n",
       "DATE    = '2022-12-20T02:23:36.631141' /Date FITS file was written              \n",
       "ORIGIN  = 'CASA 6.4.1-12 CASAtools:v1.0.0'                                      \n",
       "HISTORY CASA START LOGTABLE                                                     \n",
       "HISTORY 2022-12-20T01:39:17 INFO SRCCODE='::tclean'                             \n",
       "HISTORY taskname=tclean                                                         \n",
       "HISTORY 2022-12-20T01:39:17 INFO SRCCODE='::tclean'                             \n",
       "HISTORY version: 6.4.1-12 CASAtools:v1.0.0                                      \n",
       "HISTORY 2022-12-20T01:39:17 INFO SRCCODE='::tclean'                             \n",
       "HISTORY vis         = ['uid___A002_X1003af4_X984_targets.ms']                   \n",
       "HISTORY 2022-12-20T01:39:17 INFO SRCCODE='::tclean'                             \n",
       "HISTORY selectdata  = True                                                      \n",
       "HISTORY 2022-12-20T01:39:17 INFO SRCCODE='::tclean'                             \n",
       "HISTORY field       = \"B335\"                                                    \n",
       "HISTORY 2022-12-20T01:39:17 INFO SRCCODE='::tclean'                             \n",
       "HISTORY spw         = ['25:390.0469326699~390.1016201699GHz;390.1475186074~390.1\n",
       "HISTORY >553311074GHz;390.1670498574~390.1914639199GHz;390.2002529824~390.206112\n",
       "HISTORY >574GHz;390.2383389199~390.2441982949GHz;390.2461514199~390.2529873574GH\n",
       "HISTORY >;390.2734951699~390.2793545449GHz;390.3037686074~390.3184170449GHz;390.\n",
       "HISTORY >408779824~390.3506436074GHz;390.3643154824~390.3984951699GHz;390.411190\n",
       "HISTORY >824~390.4209561074GHz;390.4316982949~390.4395107949GHz;390.4551357949~3\n",
       "HISTORY >0.4688076699GHz;390.5156826699~390.5225186074GHz;390.5254482949~390.531\n",
       "HISTORY >076699GHz;390.5391201699~390.5459561074GHz;390.5645107949~390.570370169\n",
       "HISTORY >GHz;390.6035732949~390.6211514199GHz;390.6524014199~390.6611904824GHz;3\n",
       "HISTORY >0.6768154824~390.6836514199GHz;390.7481045449~390.7568936074GHz;390.789\n",
       "HISTORY >201699~390.8125576699GHz;390.8252529824~390.8418545449GHz;390.863338919\n",
       "HISTORY >~390.8906826699GHz;390.9043545449~390.9697842324GHz;390.9815029824~391.\n",
       "HISTORY >068936074GHz;391.0469326699~391.0830654824GHz;391.1123623574~391.149471\n",
       "HISTORY >324GHz;391.1729092324~391.1875576699GHz;391.1904873574~391.1963467324GH\n",
       "HISTORY >;391.2578701699~391.2891201699GHz;391.3272061074~391.3711514199GHz;391.\n",
       "HISTORY >926357949~391.4024014199GHz;391.4160732949~391.4414639199GHz;391.467831\n",
       "HISTORY >074~391.4815029824GHz;391.5440029824~391.5508389199GHz;391.5889248574~3\n",
       "HISTORY >1.6016201699GHz;391.6533779824~391.6641201699GHz;391.6777920449~391.698\n",
       "HISTORY >998574GHz;391.7373623574~391.7520107949GHz;391.7637295449~391.796932669\n",
       "HISTORY >GHz;391.8350186074~391.8516201699GHz;391.8545498574~391.8672451699GHz;3\n",
       "HISTORY >1.8770107949~391.8955654824GHz,27:392.0311331327~392.0838675077GHz;392.\n",
       "HISTORY >092581327~392.1991018827GHz;392.2313284452~392.2957815702GHz;392.334844\n",
       "HISTORY >702~392.3719534452GHz;392.4051565702~392.4569143827GHz;392.5203909452~3\n",
       "HISTORY >2.5321096952GHz;392.5575003202~392.5799612577GHz;392.6297659452~392.653\n",
       "HISTORY >034452GHz;392.6619925077~392.6912893827GHz;392.7244925077~392.755742507\n",
       "HISTORY >GHz;392.7772268827~392.8446096952GHz;392.8670706327~392.8748831327GHz;3\n",
       "HISTORY >2.8856253202~392.9325003202GHz;392.9471487577~392.9832815702GHz;393.018\n",
       "HISTORY >378202~393.0975393827GHz;393.1278128202~393.1668753202GHz;393.249883132\n",
       "HISTORY >~393.3328909452GHz;393.3641409452~393.4158987577GHz;393.4373831327~393.\n",
       "HISTORY >725393827GHz;393.5037893827~393.5125784452GHz;393.5535940702~393.667851\n",
       "HISTORY >827GHz;393.7332815702~393.7459768827GHz;393.7694143827~393.7752737577GH\n",
       "HISTORY >;393.8319143827~393.8426565702GHz;393.8524221952~393.8983206327GHz,29:4\n",
       "HISTORY >2.0792795211~402.0880685836GHz;402.1036935836~402.1534982711GHz;402.175\n",
       "HISTORY >592086~402.1847482711GHz;402.2033029586~402.2159982711GHz;402.229670146\n",
       "HISTORY >~402.2394357711GHz;402.2667795211~402.2745920211GHz;402.2872873336~402.\n",
       "HISTORY >970529586GHz;402.3507638961~402.3771310836GHz;402.3986154586~402.418146\n",
       "HISTORY >086GHz;402.4484201461~402.5236154586GHz;402.5958810836~402.7140451461GH\n",
       "HISTORY >;402.7550607711~402.7804513961GHz;402.8009592086~402.8517404586GHz;402.\n",
       "HISTORY >732248336~402.8849435836GHz;402.9191232711~402.9640451461GHz;402.982599\n",
       "HISTORY >336~403.0070138961GHz;403.0158029586~403.0255685836GHz;403.0812326461~4\n",
       "HISTORY >3.1232248336GHz;403.1466623336~403.1603342086GHz;403.1788888961~403.199\n",
       "HISTORY >967086GHz;403.2325998336~403.3546701461GHz;403.3937326461~403.401545146\n",
       "HISTORY >GHz;403.4249826461~403.4386545211GHz;403.4865060836~403.5031076461GHz;4\n",
       "HISTORY >3.5685373336~403.5841623336GHz;403.6056467086~403.6290842086GHz;403.677\n",
       "HISTORY >123336~403.6915842086GHz;403.7150217086~403.7286935836GHz;403.757990458\n",
       "HISTORY >~403.7687326461GHz;403.8077951461~403.8136545211GHz;403.8497873336~403.\n",
       "HISTORY >566232711GHz;403.8732248336~403.8790842086GHz;403.9054513961~403.933771\n",
       "HISTORY >086GHz,31:404.0330155974~404.0554765349GHz;404.0945390349~404.100398409\n",
       "HISTORY >GHz;404.4500077849~404.4705155974GHz;404.6462968474~404.6521562224GHz;4\n",
       "HISTORY >4.6834062224~404.6873124724GHz;404.7283280974~404.7351640349GHz;404.810\n",
       "HISTORY >593474~404.8171952849GHz;404.8953202849~404.9021562224GHz;405.070124972\n",
       "HISTORY >~405.0750077849GHz;405.1082109099~405.1111405974GHz;405.1482499724~405.\n",
       "HISTORY >599687224GHz;405.2068437224~405.2127030974GHz;405.2927812224~405.298640\n",
       "HISTORY >974GHz;405.3230546599~405.3357499724GHz;405.4871171599~405.4910234099GH\n",
       "HISTORY >;405.6423905974~405.6511796599GHz;405.7205155974~405.7283280974GHz']   \n",
       "HISTORY 2022-12-20T01:39:17 INFO SRCCODE='::tclean'                             \n",
       "HISTORY timerange   = \"\"                                                        \n",
       "HISTORY 2022-12-20T01:39:17 INFO SRCCODE='::tclean'                             \n",
       "HISTORY uvrange     = \"\"                                                        \n",
       "HISTORY 2022-12-20T01:39:17 INFO SRCCODE='::tclean'                             \n",
       "HISTORY antenna     = ['0,1,2,3,4,5,6,7,8,9,10,11,12,13,14,15,16,17,18,19,20,21,\n",
       "HISTORY >22,23,24,25,26,27,28,29,30,31,32,33,34,35,36,37,38,39,40,41,42&']      \n",
       "HISTORY 2022-12-20T01:39:17 INFO SRCCODE='::tclean'                             \n",
       "HISTORY scan        = ['9,13']                                                  \n",
       "HISTORY 2022-12-20T01:39:17 INFO SRCCODE='::tclean'                             \n",
       "HISTORY observation = \"\"                                                        \n",
       "HISTORY 2022-12-20T01:39:17 INFO SRCCODE='::tclean'                             \n",
       "HISTORY intent      = \"OBSERVE_TARGET#ON_SOURCE\"                                \n",
       "HISTORY 2022-12-20T01:39:17 INFO SRCCODE='::tclean'                             \n",
       "HISTORY datacolumn  = \"data\"                                                    \n",
       "HISTORY 2022-12-20T01:39:17 INFO SRCCODE='::tclean'                             \n",
       "HISTORY imagename   = \"uid___A001_X2df7_X602.s36_0.B335_sci.spw25_27_29_31.cont.\n",
       "HISTORY >I.iter1\"                                                               \n",
       "HISTORY 2022-12-20T01:39:17 INFO SRCCODE='::tclean'                             \n",
       "HISTORY imsize      = [192, 192]                                                \n",
       "HISTORY 2022-12-20T01:39:17 INFO SRCCODE='::tclean'                             \n",
       "HISTORY cell        = ['0.13arcsec']                                            \n",
       "HISTORY 2022-12-20T01:39:17 INFO SRCCODE='::tclean'                             \n",
       "HISTORY phasecenter = \"ICRS 19:37:00.7000 +007.34.08.000\"                       \n",
       "HISTORY 2022-12-20T01:39:17 INFO SRCCODE='::tclean'                             \n",
       "HISTORY stokes      = \"I\"                                                       \n",
       "HISTORY 2022-12-20T01:39:17 INFO SRCCODE='::tclean'                             \n",
       "HISTORY projection  = \"SIN\"                                                     \n",
       "HISTORY 2022-12-20T01:39:17 INFO SRCCODE='::tclean'                             \n",
       "HISTORY startmodel  = \"\"                                                        \n",
       "HISTORY 2022-12-20T01:39:17 INFO SRCCODE='::tclean'                             \n",
       "HISTORY specmode    = \"mfs\"                                                     \n",
       "HISTORY 2022-12-20T01:39:17 INFO SRCCODE='::tclean'                             \n",
       "HISTORY reffreq     = \"\"                                                        \n",
       "HISTORY 2022-12-20T01:39:17 INFO SRCCODE='::tclean'                             \n",
       "HISTORY nchan       = -1                                                        \n",
       "HISTORY 2022-12-20T01:39:17 INFO SRCCODE='::tclean'                             \n",
       "HISTORY start       = \"\"                                                        \n",
       "HISTORY 2022-12-20T01:39:17 INFO SRCCODE='::tclean'                             \n",
       "HISTORY width       = \"\"                                                        \n",
       "HISTORY 2022-12-20T01:39:17 INFO SRCCODE='::tclean'                             \n",
       "HISTORY outframe    = \"LSRK\"                                                    \n",
       "HISTORY 2022-12-20T01:39:17 INFO SRCCODE='::tclean'                             \n",
       "HISTORY veltype     = \"radio\"                                                   \n",
       "HISTORY 2022-12-20T01:39:17 INFO SRCCODE='::tclean'                             \n",
       "HISTORY restfreq    = []                                                        \n",
       "HISTORY 2022-12-20T01:39:17 INFO SRCCODE='::tclean'                             \n",
       "HISTORY interpolation = \"linear\"                                                \n",
       "HISTORY 2022-12-20T01:39:17 INFO SRCCODE='::tclean'                             \n",
       "HISTORY perchanweightdensity = False                                            \n",
       "HISTORY 2022-12-20T01:39:17 INFO SRCCODE='::tclean'                             \n",
       "HISTORY gridder     = \"standard\"                                                \n",
       "HISTORY 2022-12-20T01:39:17 INFO SRCCODE='::tclean'                             \n",
       "HISTORY facets      = 1                                                         \n",
       "HISTORY 2022-12-20T01:39:17 INFO SRCCODE='::tclean'                             \n",
       "HISTORY psfphasecenter = \"\"                                                     \n",
       "HISTORY 2022-12-20T01:39:17 INFO SRCCODE='::tclean'                             \n",
       "HISTORY wprojplanes = 1                                                         \n",
       "HISTORY 2022-12-20T01:39:17 INFO SRCCODE='::tclean'                             \n",
       "HISTORY vptable     = \"\"                                                        \n",
       "HISTORY 2022-12-20T01:39:17 INFO SRCCODE='::tclean'                             \n",
       "HISTORY mosweight   = False                                                     \n",
       "HISTORY 2022-12-20T01:39:17 INFO SRCCODE='::tclean'                             \n",
       "HISTORY aterm       = True                                                      \n",
       "HISTORY 2022-12-20T01:39:17 INFO SRCCODE='::tclean'                             \n",
       "HISTORY psterm      = False                                                     \n",
       "HISTORY 2022-12-20T01:39:17 INFO SRCCODE='::tclean'                             \n",
       "HISTORY wbawp       = True                                                      \n",
       "HISTORY 2022-12-20T01:39:17 INFO SRCCODE='::tclean'                             \n",
       "HISTORY conjbeams   = False                                                     \n",
       "HISTORY 2022-12-20T01:39:17 INFO SRCCODE='::tclean'                             \n",
       "HISTORY cfcache     = \"\"                                                        \n",
       "HISTORY 2022-12-20T01:39:17 INFO SRCCODE='::tclean'                             \n",
       "HISTORY usepointing = False                                                     \n",
       "HISTORY 2022-12-20T01:39:17 INFO SRCCODE='::tclean'                             \n",
       "HISTORY computepastep = 360.0                                                   \n",
       "HISTORY 2022-12-20T01:39:17 INFO SRCCODE='::tclean'                             \n",
       "HISTORY rotatepastep = 360.0                                                    \n",
       "HISTORY 2022-12-20T01:39:17 INFO SRCCODE='::tclean'                             \n",
       "HISTORY pointingoffsetsigdev = []                                               \n",
       "HISTORY 2022-12-20T01:39:17 INFO SRCCODE='::tclean'                             \n",
       "HISTORY pblimit     = 0.2                                                       \n",
       "HISTORY 2022-12-20T01:39:17 INFO SRCCODE='::tclean'                             \n",
       "HISTORY normtype    = \"flatnoise\"                                               \n",
       "HISTORY 2022-12-20T01:39:17 INFO SRCCODE='::tclean'                             \n",
       "HISTORY deconvolver = \"hogbom\"                                                  \n",
       "HISTORY 2022-12-20T01:39:17 INFO SRCCODE='::tclean'                             \n",
       "HISTORY scales      = []                                                        \n",
       "HISTORY 2022-12-20T01:39:17 INFO SRCCODE='::tclean'                             \n",
       "HISTORY nterms      = 2                                                         \n",
       "HISTORY 2022-12-20T01:39:17 INFO SRCCODE='::tclean'                             \n",
       "HISTORY smallscalebias = 0.0                                                    \n",
       "HISTORY 2022-12-20T01:39:17 INFO SRCCODE='::tclean'                             \n",
       "HISTORY restoration = True                                                      \n",
       "HISTORY 2022-12-20T01:39:17 INFO SRCCODE='::tclean'                             \n",
       "HISTORY restoringbeam = \"common\"                                                \n",
       "HISTORY 2022-12-20T01:39:17 INFO SRCCODE='::tclean'                             \n",
       "HISTORY pbcor       = True                                                      \n",
       "HISTORY 2022-12-20T01:39:17 INFO SRCCODE='::tclean'                             \n",
       "HISTORY outlierfile = \"\"                                                        \n",
       "HISTORY 2022-12-20T01:39:17 INFO SRCCODE='::tclean'                             \n",
       "HISTORY weighting   = \"briggs\"                                                  \n",
       "HISTORY 2022-12-20T01:39:17 INFO SRCCODE='::tclean'                             \n",
       "HISTORY robust      = 0.5                                                       \n",
       "HISTORY 2022-12-20T01:39:17 INFO SRCCODE='::tclean'                             \n",
       "HISTORY noise       = \"1.0Jy\"                                                   \n",
       "HISTORY 2022-12-20T01:39:17 INFO SRCCODE='::tclean'                             \n",
       "HISTORY npixels     = 0                                                         \n",
       "HISTORY 2022-12-20T01:39:17 INFO SRCCODE='::tclean'                             \n",
       "HISTORY uvtaper     = ['']                                                      \n",
       "HISTORY 2022-12-20T01:39:17 INFO SRCCODE='::tclean'                             \n",
       "HISTORY niter       = 1000000                                                   \n",
       "HISTORY 2022-12-20T01:39:17 INFO SRCCODE='::tclean'                             \n",
       "HISTORY gain        = 0.1                                                       \n",
       "HISTORY 2022-12-20T01:39:17 INFO SRCCODE='::tclean'                             \n",
       "HISTORY threshold   = \"0.00193Jy\"                                               \n",
       "HISTORY 2022-12-20T01:39:17 INFO SRCCODE='::tclean'                             \n",
       "HISTORY nsigma      = 0.0                                                       \n",
       "HISTORY 2022-12-20T01:39:17 INFO SRCCODE='::tclean'                             \n",
       "HISTORY cycleniter  = -1                                                        \n",
       "HISTORY 2022-12-20T01:39:17 INFO SRCCODE='::tclean'                             \n",
       "HISTORY cyclefactor = 1.0                                                       \n",
       "HISTORY 2022-12-20T01:39:17 INFO SRCCODE='::tclean'                             \n",
       "HISTORY minpsffraction = 0.05                                                   \n",
       "HISTORY 2022-12-20T01:39:17 INFO SRCCODE='::tclean'                             \n",
       "HISTORY maxpsffraction = 0.8                                                    \n",
       "HISTORY 2022-12-20T01:39:17 INFO SRCCODE='::tclean'                             \n",
       "HISTORY interactive = 0                                                         \n",
       "HISTORY 2022-12-20T01:39:17 INFO SRCCODE='::tclean'                             \n",
       "HISTORY usemask     = \"auto-multithresh\"                                        \n",
       "HISTORY 2022-12-20T01:39:17 INFO SRCCODE='::tclean'                             \n",
       "HISTORY mask        = \"\"                                                        \n",
       "HISTORY 2022-12-20T01:39:17 INFO SRCCODE='::tclean'                             \n",
       "HISTORY pbmask      = 0.0                                                       \n",
       "HISTORY 2022-12-20T01:39:17 INFO SRCCODE='::tclean'                             \n",
       "HISTORY sidelobethreshold = 2.0                                                 \n",
       "HISTORY 2022-12-20T01:39:17 INFO SRCCODE='::tclean'                             \n",
       "HISTORY noisethreshold = 4.25                                                   \n",
       "HISTORY 2022-12-20T01:39:17 INFO SRCCODE='::tclean'                             \n",
       "HISTORY lownoisethreshold = 1.5                                                 \n",
       "HISTORY 2022-12-20T01:39:17 INFO SRCCODE='::tclean'                             \n",
       "HISTORY negativethreshold = 0.0                                                 \n",
       "HISTORY 2022-12-20T01:39:17 INFO SRCCODE='::tclean'                             \n",
       "HISTORY smoothfactor = 1.0                                                      \n",
       "HISTORY 2022-12-20T01:39:17 INFO SRCCODE='::tclean'                             \n",
       "HISTORY minbeamfrac = 0.3                                                       \n",
       "HISTORY 2022-12-20T01:39:17 INFO SRCCODE='::tclean'                             \n",
       "HISTORY cutthreshold = 0.01                                                     \n",
       "HISTORY 2022-12-20T01:39:17 INFO SRCCODE='::tclean'                             \n",
       "HISTORY growiterations = 75                                                     \n",
       "HISTORY 2022-12-20T01:39:17 INFO SRCCODE='::tclean'                             \n",
       "HISTORY dogrowprune = True                                                      \n",
       "HISTORY 2022-12-20T01:39:17 INFO SRCCODE='::tclean'                             \n",
       "HISTORY minpercentchange = 1.0                                                  \n",
       "HISTORY 2022-12-20T01:39:17 INFO SRCCODE='::tclean'                             \n",
       "HISTORY verbose     = False                                                     \n",
       "HISTORY 2022-12-20T01:39:17 INFO SRCCODE='::tclean'                             \n",
       "HISTORY fastnoise   = False                                                     \n",
       "HISTORY 2022-12-20T01:39:17 INFO SRCCODE='::tclean'                             \n",
       "HISTORY restart     = True                                                      \n",
       "HISTORY 2022-12-20T01:39:17 INFO SRCCODE='::tclean'                             \n",
       "HISTORY savemodel   = \"none\"                                                    \n",
       "HISTORY 2022-12-20T01:39:17 INFO SRCCODE='::tclean'                             \n",
       "HISTORY calcres     = False                                                     \n",
       "HISTORY 2022-12-20T01:39:17 INFO SRCCODE='::tclean'                             \n",
       "HISTORY calcpsf     = False                                                     \n",
       "HISTORY 2022-12-20T01:39:17 INFO SRCCODE='::tclean'                             \n",
       "HISTORY psfcutoff   = 0.35                                                      \n",
       "HISTORY 2022-12-20T01:39:17 INFO SRCCODE='::tclean'                             \n",
       "HISTORY parallel    = True                                                      \n",
       "HISTORY 2022-12-20T01:39:17 INFO SRCCODE='::image::setmiscinfo'                 \n",
       "HISTORY Ran ia.setmiscinfo                                                      \n",
       "HISTORY 2022-12-20T01:39:17 INFO SRCCODE='::image::setmiscinfo'                 \n",
       "HISTORY ia.setmiscinfo(info={...})                                              \n",
       "HISTORY 2022-12-20T01:39:18 INFO SRCCODE='::image::setmiscinfo'                 \n",
       "HISTORY Ran ia.setmiscinfo                                                      \n",
       "HISTORY 2022-12-20T01:39:18 INFO SRCCODE='::image::setmiscinfo'                 \n",
       "HISTORY ia.setmiscinfo(info={...})                                              \n",
       "HISTORY CASA END LOGTABLE                                                       "
      ]
     },
     "execution_count": 4,
     "metadata": {},
     "output_type": "execute_result"
    }
   ],
   "source": [
    "header"
   ]
  },
  {
   "cell_type": "code",
   "execution_count": 5,
   "id": "6dfa75d4",
   "metadata": {},
   "outputs": [
    {
     "name": "stdout",
     "output_type": "stream",
     "text": [
      "\n",
      "Archivo: member.uid___A001_X2d20_X35a9.B335_sci.spw17_19_21_23.cont.I.pbcor.fits\n",
      "  CRVAL3 (Frecuencia central): 202972904790.7 Hz\n",
      "  BUNIT (Unidad de brillo): Jy/beam\n",
      "  CRVAL1 (RA): 294.2529166993\n",
      "  CRVAL2 (DEC): 7.568888784111\n",
      "\n",
      "Archivo: member.uid___A001_X2d20_X35ab.B335_sci.spw17_19_21_23.cont.I.selfcal.tt0.pbcor.fits\n",
      "  CRVAL3 (Frecuencia central): 202959359216.4 Hz\n",
      "  BUNIT (Unidad de brillo): Jy/beam\n",
      "  CRVAL1 (RA): 294.2529166993\n",
      "  CRVAL2 (DEC): 7.568888784111\n",
      "\n",
      "Archivo: member.uid___A001_X2df7_X600.B335_sci.spw25_27_29_31.cont.I.pbcor.fits\n",
      "  CRVAL3 (Frecuencia central): 397981787126.5 Hz\n",
      "  BUNIT (Unidad de brillo): Jy/beam\n",
      "  CRVAL1 (RA): 294.2529166993\n",
      "  CRVAL2 (DEC): 7.568888784111\n",
      "\n",
      "Archivo: member.uid___A001_X2df7_X602.B335_sci.spw25_27_29_31.cont.I.pbcor.fits\n",
      "  CRVAL3 (Frecuencia central): 397899751250.9 Hz\n",
      "  BUNIT (Unidad de brillo): Jy/beam\n",
      "  CRVAL1 (RA): 294.2529166993\n",
      "  CRVAL2 (DEC): 7.568888784111\n"
     ]
    }
   ],
   "source": [
    "from astropy.io import fits\n",
    "\n",
    "archivos = [\n",
    "   \n",
    "    'member.uid___A001_X2d20_X35a9.B335_sci.spw17_19_21_23.cont.I.pbcor.fits',\n",
    "    'member.uid___A001_X2d20_X35ab.B335_sci.spw17_19_21_23.cont.I.selfcal.tt0.pbcor.fits',\n",
    "    'member.uid___A001_X2df7_X600.B335_sci.spw25_27_29_31.cont.I.pbcor.fits',\n",
    "    'member.uid___A001_X2df7_X602.B335_sci.spw25_27_29_31.cont.I.pbcor.fits',\n",
    "]\n",
    "\n",
    "for archivo in archivos:\n",
    "    with fits.open(archivo) as hdul:\n",
    "        header = hdul[0].header\n",
    "        print(f\"\\nArchivo: {archivo}\")\n",
    "        print(f\"  CRVAL3 (Frecuencia central): {header.get('CRVAL3', 'N/A')} Hz\")\n",
    "        print(f\"  BUNIT (Unidad de brillo): {header.get('BUNIT', 'N/A')}\")\n",
    "        print(f\"  CRVAL1 (RA): {header.get('CRVAL1', 'N/A')}\")\n",
    "        print(f\"  CRVAL2 (DEC): {header.get('CRVAL2', 'N/A')}\")\n"
   ]
  },
  {
   "cell_type": "markdown",
   "id": "6d7007d9",
   "metadata": {},
   "source": [
    "Es interesante que lo que estamos trabajando con un cubo de datos, eso es cool, la cosa es que el cubo tiene la forma (192,192,1,1) osea tiene para cada ra y dec su flujo correspondiente, pero no tienen frecuencia como tal osea que solo con una imagen no puedo graficarlo, pero cada imagen  si que tiene una frecuencia principal, lo que significa que es a esa longitud de onda que esta esa imagen , lo "
   ]
  },
  {
   "cell_type": "code",
   "execution_count": null,
   "id": "2e29977c",
   "metadata": {},
   "outputs": [],
   "source": []
  },
  {
   "cell_type": "code",
   "execution_count": 6,
   "id": "77b4657b",
   "metadata": {},
   "outputs": [
    {
     "name": "stdout",
     "output_type": "stream",
     "text": [
      "Archivo: member.uid___A001_X2d20_X35a9.B335_sci.spw17_19_21_23.cont.I.pbcor.fits\n",
      "  Frecuencia central (CRVAL3): 202972904790.7 Hz\n",
      "  Unidad de brillo (BUNIT): Jy/beam\n",
      "  RA (CRVAL1): 294.2529166993\n",
      "  DEC (CRVAL2): 7.568888784111\n",
      "  Tamaño de píxel (CDELT1, CDELT2): -7.222222217153e-06, 7.222222217153e-06 [deg]\n",
      "  Beam mayor (BMAJ): 4.637780702776e-05 [deg]\n",
      "  Beam menor (BMIN): 3.821449561252e-05 [deg]\n",
      "  Posición del beam (BPA): 34.61054992676 [deg]\n",
      "Archivo: member.uid___A001_X2d20_X35ab.B335_sci.spw17_19_21_23.cont.I.selfcal.tt0.pbcor.fits\n",
      "  Frecuencia central (CRVAL3): 202959359216.4 Hz\n",
      "  Unidad de brillo (BUNIT): Jy/beam\n",
      "  RA (CRVAL1): 294.2529166993\n",
      "  DEC (CRVAL2): 7.568888784111\n",
      "  Tamaño de píxel (CDELT1, CDELT2): -2.444444442288e-05, 2.444444442288e-05 [deg]\n",
      "  Beam mayor (BMAJ): 0.0001650874813398 [deg]\n",
      "  Beam menor (BMIN): 0.0001185591436095 [deg]\n",
      "  Posición del beam (BPA): -38.30741882324 [deg]\n",
      "Archivo: member.uid___A001_X2df7_X600.B335_sci.spw25_27_29_31.cont.I.pbcor.fits\n",
      "  Frecuencia central (CRVAL3): 397981787126.5 Hz\n",
      "  Unidad de brillo (BUNIT): Jy/beam\n",
      "  RA (CRVAL1): 294.2529166993\n",
      "  DEC (CRVAL2): 7.568888784111\n",
      "  Tamaño de píxel (CDELT1, CDELT2): -7.222222217153e-06, 7.222222217153e-06 [deg]\n",
      "  Beam mayor (BMAJ): 4.174556997087e-05 [deg]\n",
      "  Beam menor (BMIN): 3.655658000045e-05 [deg]\n",
      "  Posición del beam (BPA): 20.5141658783 [deg]\n",
      "Archivo: member.uid___A001_X2df7_X602.B335_sci.spw25_27_29_31.cont.I.pbcor.fits\n",
      "  Frecuencia central (CRVAL3): 397899751250.9 Hz\n",
      "  Unidad de brillo (BUNIT): Jy/beam\n",
      "  RA (CRVAL1): 294.2529166993\n",
      "  DEC (CRVAL2): 7.568888784111\n",
      "  Tamaño de píxel (CDELT1, CDELT2): -3.611111108576e-05, 3.611111108576e-05 [deg]\n",
      "  Beam mayor (BMAJ): 0.0002113536993663 [deg]\n",
      "  Beam menor (BMIN): 0.0001758918000592 [deg]\n",
      "  Posición del beam (BPA): -54.66566848755 [deg]\n"
     ]
    }
   ],
   "source": [
    "from astropy.io import fits\n",
    "\n",
    "# Lista de tus 4 archivos FITS\n",
    "archivos = [\n",
    "    'member.uid___A001_X2d20_X35a9.B335_sci.spw17_19_21_23.cont.I.pbcor.fits',\n",
    "    'member.uid___A001_X2d20_X35ab.B335_sci.spw17_19_21_23.cont.I.selfcal.tt0.pbcor.fits',\n",
    "    'member.uid___A001_X2df7_X600.B335_sci.spw25_27_29_31.cont.I.pbcor.fits',\n",
    "    'member.uid___A001_X2df7_X602.B335_sci.spw25_27_29_31.cont.I.pbcor.fits',\n",
    "]\n",
    "\n",
    "for archivo in archivos:\n",
    "    with fits.open(archivo) as hdul:\n",
    "        header = hdul[0].header\n",
    "\n",
    "        print(f\"Archivo: {archivo}\")\n",
    "        print(f\"  Frecuencia central (CRVAL3): {header.get('CRVAL3', 'N/A')} Hz\")\n",
    "        print(f\"  Unidad de brillo (BUNIT): {header.get('BUNIT', 'N/A')}\")\n",
    "        print(f\"  RA (CRVAL1): {header.get('CRVAL1', 'N/A')}\")\n",
    "        print(f\"  DEC (CRVAL2): {header.get('CRVAL2', 'N/A')}\")\n",
    "        print(f\"  Tamaño de píxel (CDELT1, CDELT2): {header.get('CDELT1', 'N/A')}, {header.get('CDELT2', 'N/A')} [deg]\")\n",
    "        print(f\"  Beam mayor (BMAJ): {header.get('BMAJ', 'N/A')} [deg]\")\n",
    "        print(f\"  Beam menor (BMIN): {header.get('BMIN', 'N/A')} [deg]\")\n",
    "        print(f\"  Posición del beam (BPA): {header.get('BPA', 'N/A')} [deg]\")\n"
   ]
  },
  {
   "cell_type": "markdown",
   "id": "4114cf2b",
   "metadata": {},
   "source": [
    "Para ver como funciona photutils.aperture pues lo apkico en una de las imagenes, esto en realidad solo lo hago para entender como funciona, y simplemente reutilizo un codigo anterior."
   ]
  },
  {
   "cell_type": "code",
   "execution_count": 7,
   "id": "1aa4a1fb",
   "metadata": {},
   "outputs": [
    {
     "name": "stderr",
     "output_type": "stream",
     "text": [
      "WARNING: FITSFixedWarning: 'datfix' made the change 'Set MJD-OBS to 59876.922771 from DATE-OBS'. [astropy.wcs.wcs]\n",
      "WARNING: FITSFixedWarning: 'obsfix' made the change 'Set OBSGEO-L to   -67.754929 from OBSGEO-[XYZ].\n",
      "Set OBSGEO-B to   -23.022886 from OBSGEO-[XYZ].\n",
      "Set OBSGEO-H to     5053.796 from OBSGEO-[XYZ]'. [astropy.wcs.wcs]\n",
      "<ipython-input-7-72e553b18bd8>:72: UserWarning: Tight layout not applied. The bottom and top margins cannot be made large enough to accommodate all axes decorations.\n",
      "  plt.tight_layout()\n"
     ]
    },
    {
     "data": {
      "image/png": "[encoded data removed]",
      "text/plain": [
       "<Figure size 432x288 with 2 Axes>"
      ]
     },
     "metadata": {
      "needs_background": "light"
     },
     "output_type": "display_data"
    }
   ],
   "source": [
    "from photutils.aperture import CircularAperture\n",
    "import numpy as np\n",
    "import matplotlib.pyplot as plt\n",
    "\n",
    "dataset = \"member.uid___A001_X2df7_X602.B335_sci.spw25_27_29_31.cont.I.pbcor.fits\"\n",
    "\n",
    "hdul = fits.open(dataset)\n",
    "header = hdul[0].header\n",
    "data = hdul[0].data.squeeze()  # quita ejes vacíos\n",
    "\n",
    "wcs=WCS(header)\n",
    "wcs_2d = WCS(header, naxis=2)\n",
    "\n",
    "#Frecuencia de ref\n",
    "freq = header[\"CRVAL3\"]  # Hz\n",
    "freq_ghz = freq / 1e9\n",
    "\n",
    "## Pues para el zoom\n",
    "peak_pos = np.unravel_index(np.nanargmax(data), data.shape)\n",
    "x_peak, y_peak = peak_pos[1], peak_pos[0]\n",
    "\n",
    "# Convertir la posición del pico a coordenadas celestiales\n",
    "ra_peak, dec_peak = wcs_2d.all_pix2world(x_peak, y_peak, 0)\n",
    "\n",
    "# Definir el tamaño de la caja en grados (ajusta según tus necesidades)\n",
    "box_size_deg = 0.001  # por ejemplo, 0.001 grados\n",
    "\n",
    "# Calcular límites en coordenadas celestiales\n",
    "ra_min = ra_peak - box_size_deg\n",
    "ra_max = ra_peak + box_size_deg  \n",
    "dec_min = dec_peak - box_size_deg\n",
    "dec_max = dec_peak + box_size_deg\n",
    "\n",
    "# Convertir de vuelta a píxeles\n",
    "xpix, ypix = wcs_2d.all_world2pix([ra_min, ra_max], [dec_min, dec_max], 0)\n",
    "\n",
    "xmin1 = int(np.floor(np.min(xpix)))\n",
    "xmax1 = int(np.ceil(np.max(xpix)))\n",
    "ymin1 = int(np.floor(np.min(ypix)))\n",
    "ymax1 = int(np.ceil(np.max(ypix)))\n",
    "\n",
    "\n",
    "#ax.set(xlim=(xmin1, xmax1), ylim=(ymin1, ymax1))\n",
    "\n",
    "##\n",
    "# === Localizar el píxel más brillante (centro aproximado) ===\n",
    "center = np.unravel_index(np.nanargmax(data), data.shape)  # (fila, columna) = (y, x)\n",
    "\n",
    "# === Apertura circular ===\n",
    "r = 4  # radio en píxeles (ajústalo a tu fuente)\n",
    "aperture = CircularAperture((center[1], center[0]), r=r)  # (x, y)\n",
    "\n",
    "\n",
    "# === Graficar con WCS 2D y dibujar la apertura ===\n",
    "fig = plt.figure()\n",
    "ax = plt.subplot(projection=wcs_2d)\n",
    "\n",
    "# Importante: origin='lower' para que (0,0) esté en la esquina inferior izquierda,\n",
    "# en coherencia con (x, y) de píxel y WCS.\n",
    "im = ax.imshow(data, origin='lower')\n",
    "\n",
    "# Marca del centro (símbolo +) y el círculo de la apertura\n",
    "ax.plot(center[1], center[0], marker='+', markersize=12, markeredgewidth=2)\n",
    "aperture.plot(axes=ax, lw=2)\n",
    "\n",
    "# Barras de color y etiquetas\n",
    "plt.colorbar(im, ax=ax, fraction=0.046, pad=0.04, label='Intensidad (unidades de la imagen)')\n",
    "ax.set_title(f'Imagen + Apertura (r={r} pix) — ν₀ ≈ {freq_ghz:.3f} GHz')\n",
    "ax.set_xlabel('RA')\n",
    "ax.set_ylabel('DEC')\n",
    "ax.set(xlim=(xmin1, xmax1), ylim=(ymin1, ymax1))\n",
    "plt.tight_layout()\n",
    "plt.show()\n"
   ]
  },
  {
   "cell_type": "markdown",
   "id": "05a3c726",
   "metadata": {},
   "source": [
    "# Primer intento de fomar la SED.\n",
    "Esto fue interesante, aqui simplement encontre la frecuencia central de las imagenes que estaba viendo, y integre el flujo en la area mas brillante, que seria donde esta el circulo en la imagen anterior, hice esto para todas las imagenes. Al ser una integral pues solo uso la primera componente del arreglo que en teoria deberia ser el numero mayor. Use de la libreria photutils las aperturas, espcificamente la circular por como se ven las imagenes, y pues aperture_photometry que seria lo que nos integra como tal el flujom en la area que se determino,  centro en si es un zoom en la zona mas brillante , em realidad es solo utiliszar esa region"
   ]
  },
  {
   "cell_type": "code",
   "execution_count": 8,
   "id": "bcb2630a",
   "metadata": {},
   "outputs": [
    {
     "name": "stdout",
     "output_type": "stream",
     "text": [
      "Frecuencia central: 397.900 GHz\n",
      "Flujo (apertura): 5.173e+00 Jy/beam\n"
     ]
    },
    {
     "data": {
      "image/png": "[encoded data removed]",
      "text/plain": [
       "<Figure size 432x288 with 1 Axes>"
      ]
     },
     "metadata": {
      "needs_background": "light"
     },
     "output_type": "display_data"
    }
   ],
   "source": [
    "from astropy.io import fits\n",
    "import numpy as np\n",
    "import matplotlib.pyplot as plt\n",
    "from photutils.aperture import CircularAperture, aperture_photometry\n",
    "\n",
    "dataset = \"member.uid___A001_X2df7_X602.B335_sci.spw25_27_29_31.cont.I.pbcor.fits\"\n",
    "hdul = fits.open(dataset)\n",
    "header = hdul[0].header\n",
    "data = hdul[0].data.squeeze()\n",
    "\n",
    "# Frecuencia central\n",
    "freq = header[\"CRVAL3\"]  # Hz\n",
    "\n",
    "# Flujo integrado usando photutils,\n",
    "centro = np.unravel_index(np.nanargmax(data), data.shape) # Esto seria para solo integrar en esa region.\n",
    "apertura = CircularAperture(centro[::-1], r=4)\n",
    "phot = aperture_photometry(np.nan_to_num(data), apertura)# Que jujtp esto es integrar los beams-pixels en esa region.\n",
    "flujo = phot[\"aperture_sum\"][0]  # Jy/beam * pixeles aprox.\n",
    "\n",
    "print(f\"Frecuencia central: {freq/1e9:.3f} GHz\")\n",
    "print(f\"Flujo (apertura): {flujo:.3e} Jy/beam\")\n",
    "\n",
    "plt.figure()\n",
    "plt.loglog([freq/1e9], [flujo], 'o')\n",
    "plt.xlabel(\"Frecuencia [GHz]\")\n",
    "plt.ylabel(\"Flujo [Jy/beam]\")\n",
    "plt.title(\"SED parcial de B335\")\n",
    "plt.show()"
   ]
  },
  {
   "cell_type": "code",
   "execution_count": 9,
   "id": "fdb11f2b",
   "metadata": {},
   "outputs": [
    {
     "name": "stdout",
     "output_type": "stream",
     "text": [
      "Frecuencia central: 397.982 GHz\n",
      "Flujo (apertura): 2.264e+00 Jy/beam\n"
     ]
    },
    {
     "data": {
      "image/png": "[encoded data removed]",
      "text/plain": [
       "<Figure size 432x288 with 1 Axes>"
      ]
     },
     "metadata": {
      "needs_background": "light"
     },
     "output_type": "display_data"
    }
   ],
   "source": [
    "dataset = \"member.uid___A001_X2df7_X600.B335_sci.spw25_27_29_31.cont.I.pbcor.fits\"\n",
    "hdul = fits.open(dataset)\n",
    "header = hdul[0].header\n",
    "data = hdul[0].data.squeeze()\n",
    "\n",
    "# Frecuencia central\n",
    "freq1 = header[\"CRVAL3\"]  # Hz\n",
    "\n",
    "# Flujo integrado\n",
    "centro1 = np.unravel_index(np.nanargmax(data), data.shape)\n",
    "apertura1 = CircularAperture(centro1[::-1], r=4)\n",
    "phot1 = aperture_photometry(np.nan_to_num(data), apertura1)\n",
    "flujo1 = phot1[\"aperture_sum\"][0]  # Jy/beam * pixeles aprox.\n",
    "\n",
    "print(f\"Frecuencia central: {freq1/1e9:.3f} GHz\")\n",
    "print(f\"Flujo (apertura): {flujo1:.3e} Jy/beam\")\n",
    "\n",
    "plt.figure()\n",
    "plt.loglog([freq1/1e9], [flujo1], 'o')\n",
    "plt.xlabel(\"Frecuencia [GHz]\")\n",
    "plt.ylabel(\"Flujo [Jy/beam]\")\n",
    "plt.title(\"SED parcial de B335\")\n",
    "plt.show()"
   ]
  },
  {
   "cell_type": "code",
   "execution_count": 10,
   "id": "e720bce9",
   "metadata": {},
   "outputs": [
    {
     "name": "stdout",
     "output_type": "stream",
     "text": [
      "Frecuencia central: 202.959 GHz\n",
      "Flujo (apertura): 6.475e-01 Jy/beam\n"
     ]
    },
    {
     "data": {
      "image/png": "[encoded data removed]",
      "text/plain": [
       "<Figure size 432x288 with 1 Axes>"
      ]
     },
     "metadata": {
      "needs_background": "light"
     },
     "output_type": "display_data"
    }
   ],
   "source": [
    "dataset = \"member.uid___A001_X2d20_X35ab.B335_sci.spw17_19_21_23.cont.I.selfcal.tt0.pbcor.fits\"\n",
    "hdul = fits.open(dataset)\n",
    "header = hdul[0].header\n",
    "data = hdul[0].data.squeeze()\n",
    "\n",
    "# Frecuencia central\n",
    "freq2 = header[\"CRVAL3\"]  # Hz\n",
    "\n",
    "# Flujo integrado\n",
    "centro = np.unravel_index(np.nanargmax(data), data.shape)\n",
    "apertura = CircularAperture(centro[::-1], r=4)\n",
    "phot = aperture_photometry(np.nan_to_num(data), apertura)\n",
    "flujo2 = phot[\"aperture_sum\"][0]  # Jy/beam * pixeles aprox.\n",
    "\n",
    "print(f\"Frecuencia central: {freq2/1e9:.3f} GHz\")\n",
    "print(f\"Flujo (apertura): {flujo2:.3e} Jy/beam\")\n",
    "\n",
    "plt.figure()\n",
    "plt.loglog([freq2/1e9], [flujo2], 'o')\n",
    "plt.xlabel(\"Frecuencia [GHz]\")\n",
    "plt.ylabel(\"Flujo [Jy/beam]\")\n",
    "plt.title(\"SED parcial de B335\")\n",
    "plt.show()"
   ]
  },
  {
   "cell_type": "code",
   "execution_count": 11,
   "id": "fc6d2642",
   "metadata": {},
   "outputs": [
    {
     "name": "stdout",
     "output_type": "stream",
     "text": [
      "Frecuencia central: 202.973 GHz\n",
      "Flujo (apertura): 3.707e-01 Jy/beam\n"
     ]
    },
    {
     "data": {
      "image/png": "[encoded data removed]",
      "text/plain": [
       "<Figure size 432x288 with 1 Axes>"
      ]
     },
     "metadata": {
      "needs_background": "light"
     },
     "output_type": "display_data"
    }
   ],
   "source": [
    "dataset = \"member.uid___A001_X2d20_X35a9.B335_sci.spw17_19_21_23.cont.I.pbcor.fits\"\n",
    "hdul = fits.open(dataset)\n",
    "header = hdul[0].header\n",
    "data = hdul[0].data.squeeze()\n",
    "\n",
    "# Frecuencia central\n",
    "freq3 = header[\"CRVAL3\"]  # Hz\n",
    "\n",
    "# Flujo integrado\n",
    "centro = np.unravel_index(np.nanargmax(data), data.shape)\n",
    "apertura = CircularAperture(centro[::-1], r=4)\n",
    "phot = aperture_photometry(np.nan_to_num(data), apertura)\n",
    "flujo3 = phot[\"aperture_sum\"][0]  # Jy/beam * pixeles aprox.\n",
    "\n",
    "print(f\"Frecuencia central: {freq3/1e9:.3f} GHz\")\n",
    "print(f\"Flujo (apertura): {flujo3:.3e} Jy/beam\")\n",
    "\n",
    "plt.figure()\n",
    "plt.loglog([freq3/1e9], [flujo3], 'o')\n",
    "plt.xlabel(\"Frecuencia [GHz]\")\n",
    "plt.ylabel(\"Flujo [Jy/beam]\")\n",
    "plt.title(\"SED parcial de B335\")\n",
    "plt.show()"
   ]
  },
  {
   "cell_type": "code",
   "execution_count": 12,
   "id": "aa6538f3",
   "metadata": {},
   "outputs": [
    {
     "data": {
      "image/png": "[encoded data removed]",
      "text/plain": [
       "<Figure size 432x288 with 1 Axes>"
      ]
     },
     "metadata": {
      "needs_background": "light"
     },
     "output_type": "display_data"
    }
   ],
   "source": [
    "import numpy as np\n",
    "import matplotlib.pyplot as plt\n",
    "\n",
    "\n",
    "frequencies = np.array([freq, freq1, freq2, freq3])   # en Hz\n",
    "fluxes = np.array([flujo, flujo1, flujo2, flujo3])        # en Jy/beam\n",
    "\n",
    "# Ordenar por frecuencia\n",
    "idx = np.argsort(frequencies)\n",
    "frequencies = frequencies[idx]\n",
    "fluxes = fluxes[idx]\n",
    "\n",
    "# Graficar SED\n",
    "plt.figure(figsize=(6,4))\n",
    "plt.loglog(frequencies/1e9, fluxes, 'o-', color='tab:blue', lw=1.5)\n",
    "plt.xlabel(\"Frecuencia [GHz]\")\n",
    "plt.ylabel(\"Flujo [Jy/beam]\")\n",
    "plt.title(\"SED de B335 (4 bandas ALMA)\")\n",
    "plt.grid(True, which=\"both\", ls=\"--\", alpha=0.5)\n",
    "plt.tight_layout()\n",
    "plt.show()\n"
   ]
  },
  {
   "cell_type": "markdown",
   "id": "d231991c",
   "metadata": {},
   "source": [
    "Algo bien interesante es que los flujos eb las mismas frequencia son muy distintas, es probable que sea culpa de que se mide en Jy/beam, pero para cada imagen se tiene un distinto beam size por como se midio. Esto significa que una buena SED tiene que tomar en cuenta ese Beam size, para eso lo que hice fue pues tomarlo en cuenta"
   ]
  },
  {
   "cell_type": "markdown",
   "id": "97f26a1c",
   "metadata": {},
   "source": [
    "# SED en Jy no en Jy/beam\n",
    "Para pasa de Jy/beam, ocupo multiplicar por beam osea $\\frac{Jy}{Beam}*Beam=Jy$ donde Beam seria el size del pixel, que viene dado por $\\frac{Jy}{Beam}*\\frac{Beam}{\\Omega}=Jy$ Esto lo obtuve de la siguiente pagina https://astronomy.stackexchange.com/questions/26721/converting-jy-beam-to-jy. Pero primero queria probar como me habia comentado la Dra Adele. En la pagina mencionan que es Beam y esta relacionado con FWHM, pero para nosotros es BMAJ, BMIN. Ellos sacando de una curva gaussiana un factor para el area del beam, pero en este momento solo quiero ver como funciona sin ese factor de esa curva gaussiana."
   ]
  },
  {
   "cell_type": "code",
   "execution_count": 22,
   "id": "0616225a",
   "metadata": {},
   "outputs": [
    {
     "name": "stdout",
     "output_type": "stream",
     "text": [
      "CRVAL3 = 3.979e+11 Hz | Flux = 0.329482 Jy\n"
     ]
    },
    {
     "name": "stderr",
     "output_type": "stream",
     "text": [
      "WARNING: FITSFixedWarning: 'datfix' made the change 'Set MJD-OBS to 59876.922771 from DATE-OBS'. [astropy.wcs.wcs]\n",
      "WARNING: FITSFixedWarning: 'obsfix' made the change 'Set OBSGEO-L to   -67.754929 from OBSGEO-[XYZ].\n",
      "Set OBSGEO-B to   -23.022886 from OBSGEO-[XYZ].\n",
      "Set OBSGEO-H to     5053.796 from OBSGEO-[XYZ]'. [astropy.wcs.wcs]\n"
     ]
    }
   ],
   "source": [
    "from astropy.io import fits\n",
    "from astropy.wcs import WCS\n",
    "from photutils.aperture import SkyCircularAperture, aperture_photometry\n",
    "from astropy.coordinates import SkyCoord\n",
    "import astropy.units as u\n",
    "import numpy as np\n",
    "\n",
    "dataset = \"member.uid___A001_X2df7_X602.B335_sci.spw25_27_29_31.cont.I.pbcor.fits\"\n",
    "hdul = fits.open(dataset)\n",
    "header = hdul[0].header\n",
    "data = hdul[0].data.squeeze()\n",
    "wcs = WCS(header).celestial\n",
    "\n",
    "# Frecuencia central\n",
    "freq = header[\"CRVAL3\"]  # Hz\n",
    "BMAJ = header[\"BMAJ\"]     # deg\n",
    "BMIN = header[\"BMIN\"]     # deg  \n",
    "CDELT1 = header[\"CDELT1\"] # deg/pix\n",
    "CDELT2 = header[\"CDELT2\"]         \n",
    "\n",
    "# Áreas en estereorradianes (deg² → sr)\n",
    "deg2sr = (np.pi/180.0)**2\n",
    "A_beam =  BMAJ * BMIN * deg2sr\n",
    "A_pix  = abs(CDELT1 * CDELT2) * deg2sr\n",
    "factor = A_pix / A_beam                                    # [Jy/beam·pix] → [Jy]\n",
    "\n",
    "# centro en cielo (usa tu centro global; aquí: pico por única vez) \n",
    "iy, ix = np.unravel_index(np.nanargmax(data), data.shape)\n",
    "ra_deg, dec_deg = wcs.wcs_pix2world([[ix, iy]], 0)[0]\n",
    "sky_center = SkyCoord(ra_deg*u.deg, dec_deg*u.deg)\n",
    "\n",
    "#  apertura en ARCSEC, constante entre imágenes\n",
    "R_ARCSEC = 1.0\n",
    "aper = SkyCircularAperture(sky_center, r=R_ARCSEC*u.arcsec)\n",
    "\n",
    "#  fotometría (Jy/beam·pix)\n",
    "phot = aperture_photometry(np.ma.masked_invalid(data), aper, wcs=wcs, method='exact')\n",
    "sum_Jy_per_beam_pix = float(phot[\"aperture_sum\"][0])\n",
    "\n",
    "\n",
    "\n",
    "flux_Jy = sum_Jy_per_beam_pix * factor\n",
    "print(f\"CRVAL3 = {header['CRVAL3']:.6g} Hz | Flux = {flux_Jy:.6g} Jy\")\n"
   ]
  },
  {
   "cell_type": "markdown",
   "id": "b124f3e2",
   "metadata": {},
   "source": [
    "### Realmente ocupo que se haga la integral en la misma dimensiones del cielo, direccion, por eso solo defino una vez sky_center, para que en todas las imagenes se haga en esa seccion, y no tome datos que no"
   ]
  },
  {
   "cell_type": "code",
   "execution_count": 23,
   "id": "2e6d3a96",
   "metadata": {},
   "outputs": [
    {
     "name": "stdout",
     "output_type": "stream",
     "text": [
      "CRVAL3 = 2.02973e+11 Hz | Flux = 0.0369696 Jy\n"
     ]
    },
    {
     "name": "stderr",
     "output_type": "stream",
     "text": [
      "WARNING: FITSFixedWarning: 'datfix' made the change 'Set MJD-OBS to 60081.344352 from DATE-OBS'. [astropy.wcs.wcs]\n",
      "WARNING: FITSFixedWarning: 'obsfix' made the change 'Set OBSGEO-L to   -67.754929 from OBSGEO-[XYZ].\n",
      "Set OBSGEO-B to   -23.022886 from OBSGEO-[XYZ].\n",
      "Set OBSGEO-H to     5053.796 from OBSGEO-[XYZ]'. [astropy.wcs.wcs]\n"
     ]
    }
   ],
   "source": [
    "dataset = \"member.uid___A001_X2d20_X35a9.B335_sci.spw17_19_21_23.cont.I.pbcor.fits\"\n",
    "hdul = fits.open(dataset)\n",
    "header = hdul[0].header\n",
    "data = hdul[0].data.squeeze()\n",
    "wcs = WCS(header).celestial\n",
    "\n",
    "# Frecuencia central\n",
    "freq1 = header[\"CRVAL3\"]  # Hz\n",
    "BMAJ = header[\"BMAJ\"]     # deg \n",
    "BMIN = header[\"BMIN\"]     # deg   \n",
    "CDELT1 = header[\"CDELT1\"] # deg/pix\n",
    "CDELT2 = header[\"CDELT2\"]        \n",
    "\n",
    "# Áreas en estereorradianes (deg² → sr)\n",
    "deg2sr = (np.pi/180.0)**2\n",
    "A_beam =  BMAJ * BMIN * deg2sr\n",
    "A_pix  = abs(CDELT1 * CDELT2) * deg2sr\n",
    "factor = A_pix / A_beam                                    # [Jy/beam·pix] → [Jy]\n",
    "\n",
    "\n",
    "#Esto tiene que ser constante en todos\n",
    "R_ARCSEC = 1.0\n",
    "aper = SkyCircularAperture(sky_center, r=R_ARCSEC*u.arcsec)\n",
    "\n",
    "# fotometría (Jy/beam·pix) \n",
    "phot = aperture_photometry(np.ma.masked_invalid(data), aper, wcs=wcs, method='exact')\n",
    "sum_Jy_per_beam_pix = float(phot[\"aperture_sum\"][0])\n",
    "\n",
    "\n",
    "\n",
    "flux_Jy1 = sum_Jy_per_beam_pix * factor\n",
    "print(f\"CRVAL3 = {header['CRVAL3']:.6g} Hz | Flux = {flux_Jy1:.6g} Jy\")"
   ]
  },
  {
   "cell_type": "code",
   "execution_count": 24,
   "id": "cba8d09e",
   "metadata": {},
   "outputs": [
    {
     "name": "stdout",
     "output_type": "stream",
     "text": [
      "CRVAL3 = 2.02959e+11 Hz | Flux = 0.0416356 Jy\n"
     ]
    },
    {
     "name": "stderr",
     "output_type": "stream",
     "text": [
      "WARNING: FITSFixedWarning: 'datfix' made the change 'Set MJD-OBS to 60455.433588 from DATE-OBS'. [astropy.wcs.wcs]\n",
      "WARNING: FITSFixedWarning: 'obsfix' made the change 'Set OBSGEO-L to   -67.754929 from OBSGEO-[XYZ].\n",
      "Set OBSGEO-B to   -23.022886 from OBSGEO-[XYZ].\n",
      "Set OBSGEO-H to     5053.796 from OBSGEO-[XYZ]'. [astropy.wcs.wcs]\n"
     ]
    }
   ],
   "source": [
    "dataset = \"member.uid___A001_X2d20_X35ab.B335_sci.spw17_19_21_23.cont.I.selfcal.tt0.pbcor.fits\"\n",
    "hdul = fits.open(dataset)\n",
    "header = hdul[0].header\n",
    "data = hdul[0].data.squeeze()\n",
    "wcs = WCS(header).celestial\n",
    "\n",
    "# Frecuencia central\n",
    "freq2 = header[\"CRVAL3\"]  # Hz\n",
    "BMAJ = header[\"BMAJ\"]     # deg  \n",
    "BMIN = header[\"BMIN\"]     # deg   \n",
    "CDELT1 = header[\"CDELT1\"] # deg/pix\n",
    "CDELT2 = header[\"CDELT2\"]         \n",
    "\n",
    "# Áreas en estereorradianes (deg² → sr)\n",
    "deg2sr = (np.pi/180.0)**2\n",
    "A_beam =  BMAJ * BMIN * deg2sr\n",
    "A_pix  = abs(CDELT1 * CDELT2) * deg2sr\n",
    "factor = A_pix / A_beam                                    # [Jy/beam·pix] → [Jy]\n",
    "\n",
    "\n",
    "#Esto tiene que ser constante en todos\n",
    "R_ARCSEC = 1.0\n",
    "aper = SkyCircularAperture(sky_center, r=R_ARCSEC*u.arcsec)\n",
    "\n",
    "# fotometría (Jy/beam·pix)\n",
    "phot = aperture_photometry(np.ma.masked_invalid(data), aper, wcs=wcs, method='exact')\n",
    "sum_Jy_per_beam_pix = float(phot[\"aperture_sum\"][0])\n",
    "\n",
    "\n",
    "\n",
    "flux_Jy2 = sum_Jy_per_beam_pix * factor\n",
    "print(f\"CRVAL3 = {header['CRVAL3']:.6g} Hz | Flux = {flux_Jy2:.6g} Jy\")"
   ]
  },
  {
   "cell_type": "code",
   "execution_count": 25,
   "id": "57fd05d3",
   "metadata": {},
   "outputs": [
    {
     "name": "stdout",
     "output_type": "stream",
     "text": [
      "CRVAL3 = 3.97982e+11 Hz | Flux = 0.303617 Jy\n"
     ]
    },
    {
     "name": "stderr",
     "output_type": "stream",
     "text": [
      "WARNING: FITSFixedWarning: 'datfix' made the change 'Set MJD-OBS to 60054.459828 from DATE-OBS'. [astropy.wcs.wcs]\n",
      "WARNING: FITSFixedWarning: 'obsfix' made the change 'Set OBSGEO-L to   -67.754929 from OBSGEO-[XYZ].\n",
      "Set OBSGEO-B to   -23.022886 from OBSGEO-[XYZ].\n",
      "Set OBSGEO-H to     5053.796 from OBSGEO-[XYZ]'. [astropy.wcs.wcs]\n"
     ]
    }
   ],
   "source": [
    "dataset = \"member.uid___A001_X2df7_X600.B335_sci.spw25_27_29_31.cont.I.pbcor.fits\"\n",
    "hdul = fits.open(dataset)\n",
    "header = hdul[0].header\n",
    "data = hdul[0].data.squeeze()\n",
    "wcs = WCS(header).celestial\n",
    "\n",
    "# Frecuencia central\n",
    "freq3 = header[\"CRVAL3\"]  # Hz\n",
    "BMAJ = header[\"BMAJ\"]     # deg  \n",
    "BMIN = header[\"BMIN\"]     # deg   \n",
    "CDELT1 = header[\"CDELT1\"] # deg/pix\n",
    "CDELT2 = header[\"CDELT2\"]       \n",
    "\n",
    "# Áreas en estereorradianes (deg² → sr)\n",
    "deg2sr = (np.pi/180.0)**2\n",
    "A_beam =  BMAJ * BMIN * deg2sr\n",
    "A_pix  = abs(CDELT1 * CDELT2) * deg2sr\n",
    "factor = A_pix / A_beam                                    # [Jy/beam·pix] → [Jy]\n",
    "\n",
    "\n",
    "\n",
    "#Esto tiene que ser constante en todos\n",
    "R_ARCSEC = 1.0\n",
    "aper = SkyCircularAperture(sky_center, r=R_ARCSEC*u.arcsec)\n",
    "\n",
    "# fotometría (Jy/beam·pix)\n",
    "phot = aperture_photometry(np.ma.masked_invalid(data), aper, wcs=wcs, method='exact')\n",
    "sum_Jy_per_beam_pix = float(phot[\"aperture_sum\"][0])\n",
    "\n",
    "\n",
    "\n",
    "flux_Jy3 = sum_Jy_per_beam_pix * factor\n",
    "print(f\"CRVAL3 = {header['CRVAL3']:.6g} Hz | Flux = {flux_Jy3:.6g} Jy\")"
   ]
  },
  {
   "cell_type": "code",
   "execution_count": 26,
   "id": "40eeeaf6",
   "metadata": {},
   "outputs": [
    {
     "data": {
      "image/png": "[encoded data removed]",
      "text/plain": [
       "<Figure size 432x288 with 1 Axes>"
      ]
     },
     "metadata": {
      "needs_background": "light"
     },
     "output_type": "display_data"
    }
   ],
   "source": [
    "\n",
    "frequencies = np.array([freq, freq1, freq2, freq3])   # en Hz\n",
    "fluxes = np.array([ flux_Jy, flux_Jy1, flux_Jy2, flux_Jy3])        # en Jy/beam\n",
    "\n",
    "# Ordenar por frecuencia\n",
    "idx = np.argsort(frequencies)\n",
    "frequencies = (frequencies[idx])\n",
    "fluxes = fluxes[idx]\n",
    "\n",
    "# Graficar SED\n",
    "plt.figure(figsize=(6,4))\n",
    "plt.loglog(frequencies/1e9, fluxes, 'o-', color='tab:blue', lw=1.5)\n",
    "plt.xlabel(\"Frecuencia [GHz]\")\n",
    "plt.ylabel(\"Flujo [Jy/beam]\")\n",
    "plt.title(\"SED de B335 (4 bandas ALMA)\")\n",
    "plt.grid(True, which=\"both\", ls=\"--\", alpha=0.5)\n",
    "plt.tight_layout()\n",
    "plt.show()\n"
   ]
  },
  {
   "cell_type": "markdown",
   "id": "3af37ea6",
   "metadata": {},
   "source": [
    "## Encontrando el SED, pero con la ecuacion que se usa en NRAO.\n",
    "Usando Area beam con el factor de correcion que nos faltaba que es $\\frac{\\pi}{4ln(2)}BMAJBIN$"
   ]
  },
  {
   "cell_type": "code",
   "execution_count": 36,
   "id": "011054f8",
   "metadata": {},
   "outputs": [
    {
     "name": "stdout",
     "output_type": "stream",
     "text": [
      "CRVAL3 = 3.979e+11 Hz | Flux = 0.290782 Jy\n"
     ]
    },
    {
     "name": "stderr",
     "output_type": "stream",
     "text": [
      "WARNING: FITSFixedWarning: 'datfix' made the change 'Set MJD-OBS to 59876.922771 from DATE-OBS'. [astropy.wcs.wcs]\n",
      "WARNING: FITSFixedWarning: 'obsfix' made the change 'Set OBSGEO-L to   -67.754929 from OBSGEO-[XYZ].\n",
      "Set OBSGEO-B to   -23.022886 from OBSGEO-[XYZ].\n",
      "Set OBSGEO-H to     5053.796 from OBSGEO-[XYZ]'. [astropy.wcs.wcs]\n"
     ]
    }
   ],
   "source": [
    "\n",
    "dataset = \"member.uid___A001_X2df7_X602.B335_sci.spw25_27_29_31.cont.I.pbcor.fits\"\n",
    "hdul = fits.open(dataset)\n",
    "header = hdul[0].header\n",
    "data = hdul[0].data.squeeze()\n",
    "wcs = WCS(header).celestial\n",
    "\n",
    "# Frecuencia central\n",
    "freq = header[\"CRVAL3\"]  # Hz\n",
    "BMAJ = header[\"BMAJ\"]     # deg\n",
    "BMIN = header[\"BMIN\"]     # deg  \n",
    "CDELT1 = header[\"CDELT1\"] # deg/pix\n",
    "CDELT2 = header[\"CDELT2\"]         \n",
    "\n",
    "# Áreas en estereorradianes (deg² → sr)\n",
    "deg2sr = (np.pi/180.0)**2\n",
    "A_beam =  (np.pi/(4*np.log(2))) * BMAJ * BMIN * deg2sr\n",
    "A_pix  = abs(CDELT1 * CDELT2) * deg2sr\n",
    "factor = A_pix / A_beam                                    # [Jy/beam·pix] → [Jy]\n",
    "\n",
    "# centro en cielo (usa tu centro global; aquí: pico por única vez) \n",
    "iy, ix = np.unravel_index(np.nanargmax(data), data.shape)\n",
    "ra_deg, dec_deg = wcs.wcs_pix2world([[ix, iy]], 0)[0]\n",
    "sky_center = SkyCoord(ra_deg*u.deg, dec_deg*u.deg)\n",
    "\n",
    "# apertura en ARCSEC, constante entre imágenes \n",
    "R_ARCSEC = 1.0\n",
    "aper = SkyCircularAperture(sky_center, r=R_ARCSEC*u.arcsec)\n",
    "\n",
    "# fotometría (Jy/beam·pix) \n",
    "phot = aperture_photometry(np.ma.masked_invalid(data), aper, wcs=wcs, method='exact')\n",
    "sum_Jy_per_beam_pix = float(phot[\"aperture_sum\"][0])\n",
    "\n",
    "\n",
    "\n",
    "flux_Jy = sum_Jy_per_beam_pix * factor\n",
    "print(f\"CRVAL3 = {header['CRVAL3']:.6g} Hz | Flux = {flux_Jy:.6g} Jy\")"
   ]
  },
  {
   "cell_type": "code",
   "execution_count": 37,
   "id": "e3196f24",
   "metadata": {},
   "outputs": [
    {
     "name": "stdout",
     "output_type": "stream",
     "text": [
      "CRVAL3 = 2.02973e+11 Hz | Flux = 0.290782 Jy\n"
     ]
    },
    {
     "name": "stderr",
     "output_type": "stream",
     "text": [
      "WARNING: FITSFixedWarning: 'datfix' made the change 'Set MJD-OBS to 60081.344352 from DATE-OBS'. [astropy.wcs.wcs]\n",
      "WARNING: FITSFixedWarning: 'obsfix' made the change 'Set OBSGEO-L to   -67.754929 from OBSGEO-[XYZ].\n",
      "Set OBSGEO-B to   -23.022886 from OBSGEO-[XYZ].\n",
      "Set OBSGEO-H to     5053.796 from OBSGEO-[XYZ]'. [astropy.wcs.wcs]\n"
     ]
    }
   ],
   "source": [
    "dataset = \"member.uid___A001_X2d20_X35a9.B335_sci.spw17_19_21_23.cont.I.pbcor.fits\"\n",
    "hdul = fits.open(dataset)\n",
    "header = hdul[0].header\n",
    "data = hdul[0].data.squeeze()\n",
    "wcs = WCS(header).celestial\n",
    "\n",
    "# Frecuencia central\n",
    "freq1 = header[\"CRVAL3\"]  # Hz\n",
    "BMAJ = header[\"BMAJ\"]     # deg\n",
    "BMIN = header[\"BMIN\"]     # deg  \n",
    "CDELT1 = header[\"CDELT1\"] # deg/pix\n",
    "CDELT2 = header[\"CDELT2\"]         \n",
    "\n",
    "# Áreas en estereorradianes (deg² → sr)\n",
    "deg2sr = (np.pi/180.0)**2\n",
    "A_beam =  (np.pi/(4*np.log(2))) * BMAJ * BMIN * deg2sr\n",
    "A_pix  = abs(CDELT1 * CDELT2) * deg2sr\n",
    "factor = A_pix / A_beam                                    # [Jy/beam·pix] → [Jy]\n",
    "\n",
    "\n",
    "# apertura en ARCSEC, constante entre imágenes \n",
    "R_ARCSEC = 1.0\n",
    "aper = SkyCircularAperture(sky_center, r=R_ARCSEC*u.arcsec)\n",
    "\n",
    "# -fotometría (Jy/beam·pix) \n",
    "phot = aperture_photometry(np.ma.masked_invalid(data), aper, wcs=wcs, method='exact')\n",
    "sum_Jy_per_beam_pix = float(phot[\"aperture_sum\"][0])\n",
    "\n",
    "\n",
    "\n",
    "flux_Jy1 = sum_Jy_per_beam_pix * factor\n",
    "print(f\"CRVAL3 = {header['CRVAL3']:.6g} Hz | Flux = {flux_Jy:.6g} Jy\")"
   ]
  },
  {
   "cell_type": "code",
   "execution_count": 38,
   "id": "4da150e0",
   "metadata": {},
   "outputs": [
    {
     "name": "stdout",
     "output_type": "stream",
     "text": [
      "CRVAL3 = 2.02959e+11 Hz | Flux = 0.290782 Jy\n"
     ]
    },
    {
     "name": "stderr",
     "output_type": "stream",
     "text": [
      "WARNING: FITSFixedWarning: 'datfix' made the change 'Set MJD-OBS to 60455.433588 from DATE-OBS'. [astropy.wcs.wcs]\n",
      "WARNING: FITSFixedWarning: 'obsfix' made the change 'Set OBSGEO-L to   -67.754929 from OBSGEO-[XYZ].\n",
      "Set OBSGEO-B to   -23.022886 from OBSGEO-[XYZ].\n",
      "Set OBSGEO-H to     5053.796 from OBSGEO-[XYZ]'. [astropy.wcs.wcs]\n"
     ]
    }
   ],
   "source": [
    "dataset = \"member.uid___A001_X2d20_X35ab.B335_sci.spw17_19_21_23.cont.I.selfcal.tt0.pbcor.fits\"\n",
    "hdul = fits.open(dataset)\n",
    "header = hdul[0].header\n",
    "data = hdul[0].data.squeeze()\n",
    "wcs = WCS(header).celestial\n",
    "\n",
    "# Frecuencia central\n",
    "freq2 = header[\"CRVAL3\"]  # Hz\n",
    "BMAJ = header[\"BMAJ\"]     # deg\n",
    "BMIN = header[\"BMIN\"]     # deg  \n",
    "CDELT1 = header[\"CDELT1\"] # deg/pix\n",
    "CDELT2 = header[\"CDELT2\"]         \n",
    "\n",
    "# Áreas en estereorradianes (deg² → sr)\n",
    "deg2sr = (np.pi/180.0)**2\n",
    "A_beam =  (np.pi/(4*np.log(2))) * BMAJ * BMIN * deg2sr\n",
    "A_pix  = abs(CDELT1 * CDELT2) * deg2sr\n",
    "factor = A_pix / A_beam                                    # [Jy/beam·pix] → [Jy]\n",
    "\n",
    "\n",
    "# apertura en ARCSEC, constante entre imágenes \n",
    "R_ARCSEC = 1.0\n",
    "aper = SkyCircularAperture(sky_center, r=R_ARCSEC*u.arcsec)\n",
    "\n",
    "# fotometría (Jy/beam·pix) \n",
    "phot = aperture_photometry(np.ma.masked_invalid(data), aper, wcs=wcs, method='exact')\n",
    "sum_Jy_per_beam_pix = float(phot[\"aperture_sum\"][0])\n",
    "\n",
    "\n",
    "\n",
    "flux_Jy2 = sum_Jy_per_beam_pix * factor\n",
    "print(f\"CRVAL3 = {header['CRVAL3']:.6g} Hz | Flux = {flux_Jy:.6g} Jy\")"
   ]
  },
  {
   "cell_type": "code",
   "execution_count": 39,
   "id": "5d22e85a",
   "metadata": {},
   "outputs": [
    {
     "name": "stdout",
     "output_type": "stream",
     "text": [
      "CRVAL3 = 3.97982e+11 Hz | Flux = 0.290782 Jy\n"
     ]
    },
    {
     "name": "stderr",
     "output_type": "stream",
     "text": [
      "WARNING: FITSFixedWarning: 'datfix' made the change 'Set MJD-OBS to 60054.459828 from DATE-OBS'. [astropy.wcs.wcs]\n",
      "WARNING: FITSFixedWarning: 'obsfix' made the change 'Set OBSGEO-L to   -67.754929 from OBSGEO-[XYZ].\n",
      "Set OBSGEO-B to   -23.022886 from OBSGEO-[XYZ].\n",
      "Set OBSGEO-H to     5053.796 from OBSGEO-[XYZ]'. [astropy.wcs.wcs]\n"
     ]
    }
   ],
   "source": [
    "dataset = \"member.uid___A001_X2df7_X600.B335_sci.spw25_27_29_31.cont.I.pbcor.fits\"\n",
    "hdul = fits.open(dataset)\n",
    "header = hdul[0].header\n",
    "data = hdul[0].data.squeeze()\n",
    "wcs = WCS(header).celestial\n",
    "\n",
    "# Frecuencia central\n",
    "freq3 = header[\"CRVAL3\"]  # Hz\n",
    "BMAJ = header[\"BMAJ\"]     # deg\n",
    "BMIN = header[\"BMIN\"]     # deg  \n",
    "CDELT1 = header[\"CDELT1\"] # deg/pix\n",
    "CDELT2 = header[\"CDELT2\"]         \n",
    "\n",
    "# Áreas en estereorradianes (deg² → sr)\n",
    "deg2sr = (np.pi/180.0)**2\n",
    "A_beam =  (np.pi/(4*np.log(2))) * BMAJ * BMIN * deg2sr\n",
    "A_pix  = abs(CDELT1 * CDELT2) * deg2sr\n",
    "factor = A_pix / A_beam                                    # [Jy/beam·pix] → [Jy]\n",
    "\n",
    "\n",
    "\n",
    "#apertura en ARCSEC, constante entre imágenes\n",
    "R_ARCSEC = 1.0\n",
    "aper = SkyCircularAperture(sky_center, r=R_ARCSEC*u.arcsec)\n",
    "\n",
    "# fotometría (Jy/beam·pix)\n",
    "phot = aperture_photometry(np.ma.masked_invalid(data), aper, wcs=wcs, method='exact')\n",
    "sum_Jy_per_beam_pix = float(phot[\"aperture_sum\"][0])\n",
    "\n",
    "\n",
    "\n",
    "flux_Jy3 = sum_Jy_per_beam_pix * factor\n",
    "print(f\"CRVAL3 = {header['CRVAL3']:.6g} Hz | Flux = {flux_Jy:.6g} Jy\")"
   ]
  },
  {
   "cell_type": "code",
   "execution_count": 40,
   "id": "4db2cd38",
   "metadata": {},
   "outputs": [
    {
     "data": {
      "image/png": "[encoded data removed]",
      "text/plain": [
       "<Figure size 432x288 with 1 Axes>"
      ]
     },
     "metadata": {
      "needs_background": "light"
     },
     "output_type": "display_data"
    }
   ],
   "source": [
    "\n",
    "frequencies = np.array([freq, freq1, freq2, freq3])   # en Hz\n",
    "fluxes = np.array([ flux_Jy, flux_Jy1, flux_Jy2, flux_Jy3])        # en Jy/beam\n",
    "\n",
    "# Ordenar por frecuencia\n",
    "idx = np.argsort(frequencies)\n",
    "frequencies = (frequencies[idx])\n",
    "fluxes = fluxes[idx]\n",
    "\n",
    "# Graficar SED\n",
    "plt.figure(figsize=(6,4))\n",
    "plt.loglog(frequencies/1e9, fluxes, 'o-', color='tab:blue', lw=1.5)\n",
    "plt.xlabel(\"Frecuencia [GHz]\")\n",
    "plt.ylabel(\"Flujo [Jy/beam]\")\n",
    "plt.title(\"SED de B335 (4 bandas ALMA)\")\n",
    "plt.grid(True, which=\"both\", ls=\"--\", alpha=0.5)\n",
    "plt.tight_layout()\n",
    "plt.show()\n"
   ]
  },
  {
   "cell_type": "markdown",
   "id": "330a208b",
   "metadata": {},
   "source": [
    "### Automatizando la SED, solo hice una funcion, y lo someti a un for para evitar estar escribiendo imagen por imagen"
   ]
  },
  {
   "cell_type": "code",
   "execution_count": 20,
   "id": "d7da53d2",
   "metadata": {},
   "outputs": [],
   "source": [
    "def flux_jy_from_fits(path, sky_center=None, r_arcsec=1.0):\n",
    "    with fits.open(path) as hdul:\n",
    "        hdr  = hdul[0].header\n",
    "        data = hdul[0].data.squeeze()\n",
    "        wcs  = WCS(hdr).celestial \n",
    "\n",
    "        # --- áreas ---\n",
    "        deg2rad = np.pi/180.0\n",
    "        BMAJ = hdr[\"BMAJ\"] * deg2rad\n",
    "        BMIN = hdr[\"BMIN\"] * deg2rad\n",
    "        Omega_beam = (np.pi/(4*np.log(2))) * BMAJ * BMIN  # [sr]\n",
    "\n",
    "        CDELT1 = hdr[\"CDELT1\"] * deg2rad\n",
    "        CDELT2 = hdr[\"CDELT2\"] * deg2rad\n",
    "        Omega_pix = abs(CDELT1*CDELT2)                # [sr/pix]\n",
    "        factor = Omega_pix / Omega_beam               # Jy/beam·pix → Jy\n",
    "\n",
    "        # --- centro en el cielo ---\n",
    "        if sky_center is None:\n",
    "            # usa el pico de esta imagen para la primera vez\n",
    "            iy, ix = np.unravel_index(np.nanargmax(data), data.shape)\n",
    "            ra_deg, dec_deg = wcs.wcs_pix2world([[ix, iy]], 0)[0]\n",
    "            sky_center = SkyCoord(ra_deg*u.deg, dec_deg*u.deg)\n",
    "\n",
    "        # --- apertura en ARCSEC (misma física en todas las bandas)\n",
    "        aper = SkyCircularAperture(sky_center, r=r_arcsec*u.arcsec)\n",
    "\n",
    "        # --- máscara NaN y fotometría ---\n",
    "        data_masked = np.ma.masked_invalid(data)      # NO poner 0 a NaN\n",
    "        phot = aperture_photometry(data_masked, aper, wcs=wcs, method='exact')\n",
    "        sum_Jy_per_beam_pix = phot[\"aperture_sum\"][0]\n",
    "\n",
    "        flux_Jy = sum_Jy_per_beam_pix * factor\n",
    "        return flux_Jy, sky_center, factor, Omega_pix, Omega_beam\n"
   ]
  },
  {
   "cell_type": "code",
   "execution_count": 56,
   "id": "aba84048",
   "metadata": {},
   "outputs": [
    {
     "name": "stderr",
     "output_type": "stream",
     "text": [
      "WARNING: FITSFixedWarning: 'datfix' made the change 'Set MJD-OBS to 60081.344352 from DATE-OBS'. [astropy.wcs.wcs]\n",
      "WARNING: FITSFixedWarning: 'obsfix' made the change 'Set OBSGEO-L to   -67.754929 from OBSGEO-[XYZ].\n",
      "Set OBSGEO-B to   -23.022886 from OBSGEO-[XYZ].\n",
      "Set OBSGEO-H to     5053.796 from OBSGEO-[XYZ]'. [astropy.wcs.wcs]\n",
      "WARNING: FITSFixedWarning: 'datfix' made the change 'Set MJD-OBS to 60455.433588 from DATE-OBS'. [astropy.wcs.wcs]\n",
      "WARNING: FITSFixedWarning: 'obsfix' made the change 'Set OBSGEO-L to   -67.754929 from OBSGEO-[XYZ].\n",
      "Set OBSGEO-B to   -23.022886 from OBSGEO-[XYZ].\n",
      "Set OBSGEO-H to     5053.796 from OBSGEO-[XYZ]'. [astropy.wcs.wcs]\n",
      "WARNING: FITSFixedWarning: 'datfix' made the change 'Set MJD-OBS to 60054.459828 from DATE-OBS'. [astropy.wcs.wcs]\n",
      "WARNING: FITSFixedWarning: 'obsfix' made the change 'Set OBSGEO-L to   -67.754929 from OBSGEO-[XYZ].\n",
      "Set OBSGEO-B to   -23.022886 from OBSGEO-[XYZ].\n",
      "Set OBSGEO-H to     5053.796 from OBSGEO-[XYZ]'. [astropy.wcs.wcs]\n",
      "WARNING: FITSFixedWarning: 'datfix' made the change 'Set MJD-OBS to 59876.922771 from DATE-OBS'. [astropy.wcs.wcs]\n",
      "WARNING: FITSFixedWarning: 'obsfix' made the change 'Set OBSGEO-L to   -67.754929 from OBSGEO-[XYZ].\n",
      "Set OBSGEO-B to   -23.022886 from OBSGEO-[XYZ].\n",
      "Set OBSGEO-H to     5053.796 from OBSGEO-[XYZ]'. [astropy.wcs.wcs]\n"
     ]
    },
    {
     "data": {
      "image/png": "[encoded data removed]",
      "text/plain": [
       "<Figure size 432x288 with 1 Axes>"
      ]
     },
     "metadata": {
      "needs_background": "light"
     },
     "output_type": "display_data"
    }
   ],
   "source": [
    "files = [\n",
    "    \"member.uid___A001_X2d20_X35a9.B335_sci.spw17_19_21_23.cont.I.pbcor.fits\",\n",
    "    \"member.uid___A001_X2d20_X35ab.B335_sci.spw17_19_21_23.cont.I.selfcal.tt0.pbcor.fits\",\n",
    "    \"member.uid___A001_X2df7_X600.B335_sci.spw25_27_29_31.cont.I.pbcor.fits\",\n",
    "    \"member.uid___A001_X2df7_X602.B335_sci.spw25_27_29_31.cont.I.pbcor.fits\"\n",
    "]\n",
    "\n",
    "\n",
    "# 1) fija el centro con la primera imagen\n",
    "f0, sky_c, fact0, _, _ = flux_jy_from_fits(files[0], sky_center=None, r_arcsec=1.0)\n",
    "\n",
    "freqs, fluxes = [], [f0]\n",
    "\n",
    "# 2) guarda la frecuencia central y procesa las demás con el MISMO centro\n",
    "from astropy.io import fits\n",
    "with fits.open(files[0]) as h: freqs.append(h[0].header[\"CRVAL3\"])\n",
    "\n",
    "for p in files[1:]:\n",
    "    f, _, fact, _, _ = flux_jy_from_fits(p, sky_center=sky_c, r_arcsec=1.0)\n",
    "    fluxes.append(f)\n",
    "    with fits.open(p) as h: freqs.append(h[0].header[\"CRVAL3\"])\n",
    "\n",
    "# 3) ordena por frecuencia y grafica\n",
    "idx = np.argsort(freqs)\n",
    "freqs_auto = np.array(freqs)[idx]/1e9  # GHz\n",
    "fluxes_auto = np.array(fluxes)[idx]\n",
    "\n",
    "plt.figure()\n",
    "plt.loglog(freqs_auto, fluxes_auto, 'o-')\n",
    "plt.xlabel(\"Frecuencia [GHz]\")\n",
    "plt.ylabel(\"Flujo [Jy]\")\n",
    "plt.title(\"SED de B335 (apertura fija, Jy)\")\n",
    "plt.grid(True, which='both', ls='--', alpha=0.4)\n",
    "plt.show()"
   ]
  },
  {
   "cell_type": "markdown",
   "id": "3fe7de3c",
   "metadata": {},
   "source": [
    "# Tratando la imagen\n",
    "REalmente yo pensaba reproyectar las imagenes, pero revise el header de las imagenes y en realidad los naxis de ra, dec son lo mismo para todas las imagenes, osea misma proyeccion-mismo cielo . Ademas una ventaja de usar SkyCircularAperture es que estoy definiendo la misma region angular en el cielo para las imagenes, que se encarga de proyectarla a cada pixel o rejilla. Ademas aqui no lo hice pero en uno de mis notebooks lo probe haciendo la reproyeccion y me daba un resultado mucho peor que sin hacer nada.\n",
    "## Pero los beams si que son distintos\n",
    "De hecho en unos de los codigos de arriba saque mas o menos cuanto es y si son muy distintos, osea que debo dejar como un beam size estandard, y este deberia ser el de menor resolucion, esto por que si usamos un ejemplo, si queremos comparar una imagen muy reciente digital de alta resolucion con una de muy baja resolucion, estaria como imposible aumentar la resolucion de la imagen \"mala\" pero la imagen buena si que se le puede bajar la resolucio, lo mismo con la beam size, deberia de encontrar el mas grande que seria el menos resuelto.\n",
    "Para esto hago una convolucion, bueno en realidad un desconvolucion."
   ]
  },
  {
   "cell_type": "markdown",
   "id": "8277fb3a",
   "metadata": {},
   "source": [
    "## Imagen con convolucion\n",
    "Para esto ocupo un beam unico para comparar, el menor resolucion. Esto se saca con el tama;o del haz, o su area."
   ]
  },
  {
   "cell_type": "code",
   "execution_count": 41,
   "id": "c68a6ca6",
   "metadata": {},
   "outputs": [],
   "source": [
    "\n",
    "\n",
    "paths = [\n",
    "    'member.uid___A001_X2d20_X35a9.B335_sci.spw17_19_21_23.cont.I.pbcor.fits',\n",
    "    'member.uid___A001_X2d20_X35ab.B335_sci.spw17_19_21_23.cont.I.selfcal.tt0.pbcor.fits',\n",
    "    'member.uid___A001_X2df7_X600.B335_sci.spw25_27_29_31.cont.I.pbcor.fits',\n",
    "    'member.uid___A001_X2df7_X602.B335_sci.spw25_27_29_31.cont.I.pbcor.fits',\n",
    "]\n",
    "\n",
    "# Calcula área del beam de cada imagen \n",
    "\n",
    "beams = []\n",
    "beam_areas = []\n",
    "\n",
    "for p in paths:\n",
    "    with fits.open(p) as h:\n",
    "        H = h[0].header\n",
    "        b = Beam(major=H['BMAJ']*u.deg,\n",
    "                 minor=H['BMIN']*u.deg,\n",
    "                 pa=H['BPA']*u.deg)\n",
    "        beams.append(b)\n",
    "        beam_areas.append(b.sr.to_value(u.arcsec**2))  # valor numérico del área (arcsec²)\n",
    "\n",
    "# Selecciona el beam más grande \n",
    "beam_areas = np.array(beam_areas)\n",
    "ref_index = np.argmax(beam_areas)\n",
    "ref_path = paths[ref_index]\n",
    "ref_beam = beams[ref_index]\n"
   ]
  },
  {
   "cell_type": "markdown",
   "id": "990ced08",
   "metadata": {},
   "source": [
    "Esto lo que hizo fue elegir la imagen que vamos a usar para encontrar el haz comun, para esto uso la biblioteca https://radio-beam.readthedocs.io/en/latest/, esto lo que me hace es sacar BMAJ,BMIN,BPA, para cubo de datos con mas de una imagen.\n"
   ]
  },
  {
   "cell_type": "code",
   "execution_count": 42,
   "id": "1280d270",
   "metadata": {},
   "outputs": [
    {
     "name": "stdout",
     "output_type": "stream",
     "text": [
      "Common beam: Beam: BMAJ=0.7608733177186799 arcsec BMIN=0.63321048021312 arcsec BPA=-54.66566848755 deg\n"
     ]
    },
    {
     "name": "stderr",
     "output_type": "stream",
     "text": [
      "WARNING: FITSFixedWarning: 'datfix' made the change 'Set MJD-OBS to 59876.922771 from DATE-OBS'. [astropy.wcs.wcs]\n",
      "WARNING: FITSFixedWarning: 'obsfix' made the change 'Set OBSGEO-L to   -67.754929 from OBSGEO-[XYZ].\n",
      "Set OBSGEO-B to   -23.022886 from OBSGEO-[XYZ].\n",
      "Set OBSGEO-H to     5053.796 from OBSGEO-[XYZ]'. [astropy.wcs.wcs]\n"
     ]
    }
   ],
   "source": [
    "\n",
    "\n",
    "# Elige como REF la de haz más grande \n",
    "ref_path = paths[ref_index]\n",
    "with fits.open(ref_path) as hdul_ref:\n",
    "    hdr_ref  = hdul_ref[0].header\n",
    "    wcs_ref  = WCS(hdr_ref).celestial\n",
    "    data_ref = hdul_ref[0].data.squeeze()\n",
    "    beam_ref = Beam(major=hdr_ref['BMAJ']*u.deg, minor=hdr_ref['BMIN']*u.deg, pa=hdr_ref['BPA']*u.deg)\n",
    "\n",
    "# Calcula beams y el common beam\n",
    "beams = []\n",
    "for p in paths:\n",
    "    with fits.open(p) as h:\n",
    "        H = h[0].header\n",
    "        beams.append(Beam(major=H['BMAJ']*u.deg, minor=H['BMIN']*u.deg, pa=H['BPA']*u.deg))\n",
    "\n",
    "# Extrae arrays separados de los componentes angulares\n",
    "majors = [b.major.to(u.deg) for b in beams]\n",
    "minors = [b.minor.to(u.deg) for b in beams]\n",
    "pas    = [b.pa.to(u.deg)    for b in beams]\n",
    "\n",
    "# Crea la colección directamente a partir de los componentes\n",
    "beam_collection = Beams(major=majors, minor=minors, pa=pas, default_unit=u.deg)\n",
    "\n",
    "# Calcula el beam común\n",
    "common = beam_collection.common_beam()\n",
    "\n",
    "print(\"Common beam:\", common)\n"
   ]
  },
  {
   "cell_type": "markdown",
   "id": "6df04ca1",
   "metadata": {},
   "source": [
    "## Aqui desconvolucionamos \n",
    "Usamos otra vez Beam, osea bajamos la resolucion del flujo para las distintas imagenes. Para esto me base en la siguiente documentacion https://radio-beam.readthedocs.io/en/latest/convolution_kernels.html. Con un kernel gaussiano."
   ]
  },
  {
   "cell_type": "code",
   "execution_count": 44,
   "id": "7fea9057",
   "metadata": {},
   "outputs": [
    {
     "name": "stdout",
     "output_type": "stream",
     "text": [
      "El beam de member.uid___A001_X2df7_X602.B335_sci.spw25_27_29_31.cont.I.pbcor.fits ya es más grande o igual; no se convoluciona.\n"
     ]
    }
   ],
   "source": [
    "conv_images = []\n",
    "EPS = 1e-3  # tolerancia\n",
    "\n",
    "for p, b in zip(paths, beams):\n",
    "    with fits.open(p) as h:\n",
    "        H   = h[0].header\n",
    "        D   = h[0].data.squeeze()\n",
    "\n",
    "    if common.sr > b.sr * (1.0 + EPS):\n",
    "        # kernel que lleva b -> common\n",
    "        kern_beam = common.deconvolve(b)\n",
    "        pixscale = np.sqrt(abs(H['CDELT1'] * H['CDELT2'])) * u.deg\n",
    "        kernel = kern_beam.as_kernel(pixscale)\n",
    "\n",
    "        # convolve (NO renormalizar de nuevo el kernel)\n",
    "        D_conv = convolve_fft(\n",
    "            D, kernel,\n",
    "            boundary='fill', fill_value=np.nan,\n",
    "            nan_treatment='interpolate',\n",
    "            preserve_nan=True, allow_huge=True,\n",
    "            normalize_kernel=False\n",
    "        )\n",
    "\n",
    "        #  cambiar unidades a Jy/beam_common, si no hago esto se descompone bien feo, feo feo.\n",
    "        scale = (common.sr / b.sr).to_value(u.dimensionless_unscaled)\n",
    "        D_conv *= scale\n",
    "\n",
    "    else:\n",
    "        # ya está en el haz común (o mayor dentro de EPS)\n",
    "        D_conv = D  # y scale ~ 1\n",
    "        print(f\"El beam de {p} ya es más grande o igual; no se convoluciona.\")\n",
    "    conv_images.append(D_conv)\n",
    "    \n"
   ]
  },
  {
   "cell_type": "markdown",
   "id": "4c04e885",
   "metadata": {},
   "source": [
    "pues la imagen que uso de referencia para la convolucion no se va a convolucionar, pues."
   ]
  },
  {
   "cell_type": "markdown",
   "id": "f5ca68bf",
   "metadata": {},
   "source": [
    "## Este grafico me sirvio para ver que ya teniamos el common beam que tome todo el flujo igual para las distintas imagenes."
   ]
  },
  {
   "cell_type": "code",
   "execution_count": 45,
   "id": "ecf7be61",
   "metadata": {},
   "outputs": [
    {
     "data": {
      "image/png": "[encoded data removed]",
      "text/plain": [
       "<Figure size 432x432 with 1 Axes>"
      ]
     },
     "metadata": {
      "needs_background": "light"
     },
     "output_type": "display_data"
    }
   ],
   "source": [
    "import matplotlib.pyplot as plt\n",
    "from matplotlib.patches import Ellipse\n",
    "\n",
    "fig, ax = plt.subplots(figsize=(6,6))\n",
    "\n",
    "# Dibuja los beams originales\n",
    "for b, p in zip(beams, paths):\n",
    "    e = Ellipse((0,0),\n",
    "                width=b.minor.to(u.arcsec).value,\n",
    "                height=b.major.to(u.arcsec).value,\n",
    "                angle=b.pa.to(u.deg).value,\n",
    "                fill=False, lw=1.5, label=p.split('.')[1])\n",
    "    ax.add_patch(e)\n",
    "\n",
    "# Dibuja el beam común en rojo\n",
    "E = Ellipse((0,0),\n",
    "            width=common.minor.to(u.arcsec).value,\n",
    "            height=common.major.to(u.arcsec).value,\n",
    "            angle=common.pa.to(u.deg).value,\n",
    "            color='red', lw=2, label='Common beam', fill=False)\n",
    "ax.add_patch(E)\n",
    "\n",
    "ax.set_xlim(-1, 1)\n",
    "ax.set_ylim(-1, 1)\n",
    "ax.set_aspect('equal')\n",
    "ax.legend(fontsize=8)\n",
    "ax.set_xlabel('ΔRA [arcsec]')\n",
    "ax.set_ylabel('ΔDEC [arcsec]')\n",
    "ax.set_title('Comparación de beams (originales vs común)')\n",
    "plt.show()\n"
   ]
  },
  {
   "cell_type": "markdown",
   "id": "fbf32b57",
   "metadata": {},
   "source": [
    "Estp era para ver si habia funcionado y pues si funciono"
   ]
  },
  {
   "cell_type": "code",
   "execution_count": 46,
   "id": "c4271522",
   "metadata": {},
   "outputs": [
    {
     "name": "stdout",
     "output_type": "stream",
     "text": [
      "Imagen 1: member.uid___A001_X2d20_X35a9.B335_sci.spw17_19_21_23.cont.I.pbcor.fits\n",
      "   Beam común: 0.761 arcsec × 0.633 arcsec, PA=-54.7 deg°\n",
      "Imagen 2: member.uid___A001_X2d20_X35ab.B335_sci.spw17_19_21_23.cont.I.selfcal.tt0.pbcor.fits\n",
      "   Beam común: 0.761 arcsec × 0.633 arcsec, PA=-54.7 deg°\n",
      "Imagen 3: member.uid___A001_X2df7_X600.B335_sci.spw25_27_29_31.cont.I.pbcor.fits\n",
      "   Beam común: 0.761 arcsec × 0.633 arcsec, PA=-54.7 deg°\n",
      "Imagen 4: member.uid___A001_X2df7_X602.B335_sci.spw25_27_29_31.cont.I.pbcor.fits\n",
      "   Beam común: 0.761 arcsec × 0.633 arcsec, PA=-54.7 deg°\n"
     ]
    }
   ],
   "source": [
    "for i, img in enumerate(conv_images):\n",
    "    print(f\"Imagen {i+1}: {paths[i]}\")\n",
    "    print(f\"   Beam común: {common.major.to(u.arcsec):.3f} × {common.minor.to(u.arcsec):.3f}, PA={common.pa.to(u.deg):.1f}°\")\n"
   ]
  },
  {
   "cell_type": "code",
   "execution_count": 16,
   "id": "79ab2bcf",
   "metadata": {},
   "outputs": [
    {
     "name": "stdout",
     "output_type": "stream",
     "text": [
      "0.3.9\n"
     ]
    }
   ],
   "source": [
    "import radio_beam\n",
    "print(radio_beam.__version__)"
   ]
  },
  {
   "cell_type": "markdown",
   "id": "14b2b93e",
   "metadata": {},
   "source": [
    "# Version convolucionada"
   ]
  },
  {
   "cell_type": "markdown",
   "id": "c1ff19af",
   "metadata": {},
   "source": [
    "Defino la funcion nueva en base a los nuevas cosas que obtuve osea el rayo comun y las imagenes convolucionadas. La funcion previa que defini arriba solo la altero un poco para obtener una nueva funciom."
   ]
  },
  {
   "cell_type": "code",
   "execution_count": 48,
   "id": "68c9e9c4",
   "metadata": {},
   "outputs": [],
   "source": [
    "# Bueva funcionMide flujo en Jy usando: - 'data_array': imagen YA suavizada (conv_images[i]), en Jy/beam - 'common_beam': beam común (radio_beam.Beam), para convertir a Jy\n",
    "# - 'path': para leer header/WCS/pixel scale  Retorna: flux_Jy, sky_center, factor, Omega_pix, Omega_beam_common\n",
    "    \n",
    "def flux_jy_common(path, data_array, common_beam, sky_center=None, r_arcsec=1.4):\n",
    "\n",
    "    with fits.open(path) as hdul:\n",
    "        hdr  = hdul[0].header\n",
    "        wcs  = WCS(hdr).celestial\n",
    "\n",
    "    data = np.asarray(data_array)  # imagen suavizada (Jy/beam)\n",
    "\n",
    "    # Áreas (siempre beam común)\n",
    "    deg2rad = np.pi/180.0\n",
    "    CDELT1 = hdr[\"CDELT1\"] * deg2rad\n",
    "    CDELT2 = hdr[\"CDELT2\"] * deg2rad\n",
    "    Omega_pix = abs(CDELT1*CDELT2)                               # [sr/pix]\n",
    "    Omega_beam = common_beam.sr.to(u.sr).value                   # [sr] (siempre el común)\n",
    "    factor = Omega_pix / Omega_beam                              # Jy/beam·pix → Jy\n",
    "\n",
    "    # Centro (igual que tu original: pico si no lo pasas)\n",
    "    if sky_center is None:\n",
    "        iy, ix = np.unravel_index(np.nanargmax(data), data.shape)\n",
    "        ra_deg, dec_deg = wcs.wcs_pix2world([[ix, iy]], 0)[0]\n",
    "        sky_center = SkyCoord(ra_deg*u.deg, dec_deg*u.deg)\n",
    "\n",
    "    # Apertura en arcsec\n",
    "    aper = SkyCircularAperture(sky_center, r=r_arcsec*u.arcsec)\n",
    "\n",
    "    # Fotometría (suma en Jy/beam·pix)\n",
    "    data_masked = np.ma.masked_invalid(data)\n",
    "    phot = aperture_photometry(data_masked, aper, wcs=wcs, method='exact')\n",
    "    sum_Jy_per_beam_pix = phot[\"aperture_sum\"][0]\n",
    "\n",
    "    flux_Jy = sum_Jy_per_beam_pix * factor\n",
    "    return flux_Jy, sky_center, factor, Omega_pix, Omega_beam\n"
   ]
  },
  {
   "cell_type": "code",
   "execution_count": 51,
   "id": "67b1de02",
   "metadata": {},
   "outputs": [
    {
     "name": "stderr",
     "output_type": "stream",
     "text": [
      "WARNING: FITSFixedWarning: 'datfix' made the change 'Set MJD-OBS to 60081.344352 from DATE-OBS'. [astropy.wcs.wcs]\n",
      "WARNING: FITSFixedWarning: 'obsfix' made the change 'Set OBSGEO-L to   -67.754929 from OBSGEO-[XYZ].\n",
      "Set OBSGEO-B to   -23.022886 from OBSGEO-[XYZ].\n",
      "Set OBSGEO-H to     5053.796 from OBSGEO-[XYZ]'. [astropy.wcs.wcs]\n",
      "WARNING: FITSFixedWarning: 'datfix' made the change 'Set MJD-OBS to 60455.433588 from DATE-OBS'. [astropy.wcs.wcs]\n",
      "WARNING: FITSFixedWarning: 'obsfix' made the change 'Set OBSGEO-L to   -67.754929 from OBSGEO-[XYZ].\n",
      "Set OBSGEO-B to   -23.022886 from OBSGEO-[XYZ].\n",
      "Set OBSGEO-H to     5053.796 from OBSGEO-[XYZ]'. [astropy.wcs.wcs]\n",
      "WARNING: FITSFixedWarning: 'datfix' made the change 'Set MJD-OBS to 60054.459828 from DATE-OBS'. [astropy.wcs.wcs]\n",
      "WARNING: FITSFixedWarning: 'obsfix' made the change 'Set OBSGEO-L to   -67.754929 from OBSGEO-[XYZ].\n",
      "Set OBSGEO-B to   -23.022886 from OBSGEO-[XYZ].\n",
      "Set OBSGEO-H to     5053.796 from OBSGEO-[XYZ]'. [astropy.wcs.wcs]\n",
      "WARNING: FITSFixedWarning: 'datfix' made the change 'Set MJD-OBS to 59876.922771 from DATE-OBS'. [astropy.wcs.wcs]\n",
      "WARNING: FITSFixedWarning: 'obsfix' made the change 'Set OBSGEO-L to   -67.754929 from OBSGEO-[XYZ].\n",
      "Set OBSGEO-B to   -23.022886 from OBSGEO-[XYZ].\n",
      "Set OBSGEO-H to     5053.796 from OBSGEO-[XYZ]'. [astropy.wcs.wcs]\n"
     ]
    },
    {
     "data": {
      "image/png": "[encoded data removed]",
      "text/plain": [
       "<Figure size 432x288 with 1 Axes>"
      ]
     },
     "metadata": {
      "needs_background": "light"
     },
     "output_type": "display_data"
    }
   ],
   "source": [
    "files = [\n",
    "    \"member.uid___A001_X2d20_X35a9.B335_sci.spw17_19_21_23.cont.I.pbcor.fits\",\n",
    "    \"member.uid___A001_X2d20_X35ab.B335_sci.spw17_19_21_23.cont.I.selfcal.tt0.pbcor.fits\",\n",
    "    \"member.uid___A001_X2df7_X600.B335_sci.spw25_27_29_31.cont.I.pbcor.fits\",\n",
    "    \"member.uid___A001_X2df7_X602.B335_sci.spw25_27_29_31.cont.I.pbcor.fits\"\n",
    "]\n",
    "\n",
    "# 1) fija el centro con la PRIMERA imagen suavizada\n",
    "f0, sky_c, fact0, _, _ = flux_jy_common(files[0], conv_images[0], common,\n",
    "                                        sky_center=None, r_arcsec=1.0)\n",
    "freqs, fluxes = [], [f0]\n",
    "from astropy.io import fits\n",
    "with fits.open(files[0]) as h: freqs.append(h[0].header[\"CRVAL3\"])\n",
    "\n",
    "# 2) procesa las demás con el MISMO centro\n",
    "for p, img in zip(files[1:], conv_images[1:]):\n",
    "    f, _, _, _, _ = flux_jy_common(p, img, common, sky_center=sky_c, r_arcsec=1.0)\n",
    "    fluxes.append(f)\n",
    "    with fits.open(p) as h: freqs.append(h[0].header[\"CRVAL3\"])\n",
    "\n",
    "# 3) ordena y grafica\n",
    "idx = np.argsort(freqs)\n",
    "freqs_conm = np.array(freqs)[idx]/1e9  # GHz\n",
    "fluxes_conm = np.array(fluxes)[idx]\n",
    "\n",
    "import matplotlib.pyplot as plt\n",
    "plt.figure()\n",
    "plt.loglog(freqs_conm, fluxes_conm, 'o-')\n",
    "plt.xlabel(\"Frecuencia [GHz]\")\n",
    "plt.ylabel(\"Flujo [Jy]\")\n",
    "plt.title(\"SED de B335 (apertura fija, Jy) — common beam\")\n",
    "plt.grid(True, which='both', ls='--', alpha=0.4)\n",
    "plt.show()\n"
   ]
  },
  {
   "cell_type": "markdown",
   "id": "ae212213",
   "metadata": {},
   "source": [
    "Esta es la imagen convolucionada"
   ]
  },
  {
   "cell_type": "markdown",
   "id": "a63cfab7",
   "metadata": {},
   "source": [
    "Vemos que en realidad solo son 2 bandas las que se grafica, esa diferencia que aparece puede ser debido a talvez algun error de de estadistica en la imagen, o me falta mejorar la convolucion\n",
    "## Indice espectral\n",
    "Sabemos lo siguiente $S \\propto \\nu^{\\alpha} $, pero se puede deducir de la grafica que tenemos 2 puntos por lo que $S_1 \\propto (\\nu_1)^{\\alpha} $ y $S_2 \\propto \\nu_2^{\\alpha} $,entonces si dividmos el flujo 1 y 2 nos da $$\\frac{S_1}{S_2}=(\\frac{\\nu_1}{\\nu_2})^{\\alpha}$$, si le sacamos el logaritmo base 10 nos queda $\\alpha log_{10}(\\frac{\\nu_1}{\\nu_2})= log_{10}(\\frac{S_1}{S_2})$ mandandolo a dividr nos da que $$\\alpha =\\frac{log_{10}(\\frac{S_1}{S_2})}{log_{10}(\\frac{\\nu_1}{\\nu_2})}$$\n",
    "voy a calcularlo normal y convolucionado, el rms pues lo podriamos sacar con el metodo sigma clipping o metodo cajas por si quisiera.\n"
   ]
  },
  {
   "cell_type": "markdown",
   "id": "4919f010",
   "metadata": {},
   "source": [
    "## Sin convolucionar"
   ]
  },
  {
   "cell_type": "code",
   "execution_count": 58,
   "id": "8c2063c4",
   "metadata": {},
   "outputs": [
    {
     "name": "stdout",
     "output_type": "stream",
     "text": [
      "El indice espectral sin convolucionar es:  3.1010485533742074 \n"
     ]
    }
   ],
   "source": [
    "\n",
    "freqs  = np.array(freqs_auto)\n",
    "fluxes = np.array(fluxes_auto)\n",
    "\n",
    "# separa bandas (<300 GHz y >=300 GHz), # separa bandas por 300 GHz = 3e11 Hz\n",
    "mask_lo = (freqs) < 300\n",
    "mask_hi = ~mask_lo\n",
    "\n",
    "# promedios de frecuencia por banda (ya lo tenías)\n",
    "nu1 = freqs[mask_lo].mean()\n",
    "nu2 = freqs[mask_hi].mean()\n",
    "\n",
    "# FLUJOS POR BANDA\n",
    "S_lo = fluxes[mask_lo]\n",
    "S_hi = fluxes[mask_hi]\n",
    "\n",
    "# central value: promedio simple (puedes usar mediana si prefieres robustez)\n",
    "S1 = np.mean(S_lo)\n",
    "S2 = np.mean(S_hi)\n",
    "\n",
    "a=np.log(S2/S1) / np.log(nu2/nu1)\n",
    "print(f\"El indice espectral sin convolucionar es:  {a} \")"
   ]
  },
  {
   "cell_type": "markdown",
   "id": "f962aaa6",
   "metadata": {},
   "source": [
    "## Convolucionado "
   ]
  },
  {
   "cell_type": "code",
   "execution_count": 59,
   "id": "496386cb",
   "metadata": {},
   "outputs": [
    {
     "name": "stdout",
     "output_type": "stream",
     "text": [
      "El indice espectral sin convolucionar es:  3.115723044495233 \n"
     ]
    }
   ],
   "source": [
    "\n",
    "freqs  = np.array(freqs_conm)\n",
    "fluxes = np.array(fluxes_conm)\n",
    "\n",
    "# separa bandas (<300 GHz y >=300 GHz), separa bandas por 300 GHz = 3e11 Hz\n",
    "mask_lo = (freqs) < 300\n",
    "mask_hi = ~mask_lo\n",
    "\n",
    "# promedios de frecuencia por banda (ya lo tenías)\n",
    "nu1 = freqs[mask_lo].mean()\n",
    "nu2 = freqs[mask_hi].mean()\n",
    "\n",
    "# FLUJOS POR BANDA\n",
    "S_lo = fluxes[mask_lo]\n",
    "S_hi = fluxes[mask_hi]\n",
    "\n",
    "# central value: promedio simple (puedes usar mediana si prefieres robustez)\n",
    "S1 = np.mean(S_lo)\n",
    "S2 = np.mean(S_hi)\n",
    "\n",
    "a=np.log(S2/S1) / np.log(nu2/nu1)\n",
    "print(f\"El indice espectral sin convolucionar es:  {a} \")"
   ]
  },
  {
   "cell_type": "markdown",
   "id": "9fe7c0a7",
   "metadata": {},
   "source": [
    "Para sabe cual es mas real podria calcular el error, de ambos. Pero difieren.\n",
    "Con el indice espectral podemos encontrar la opacidad opacity $\\kappa_{\\nu}$, y se puede escalar en terminos del indice de espectral\n",
    "Supongo que vamos a buscar la masa despues. Pero creo que como primera SED No esta mal."
   ]
  },
  {
   "cell_type": "code",
   "execution_count": 38,
   "id": "4f98511b",
   "metadata": {},
   "outputs": [
    {
     "name": "stdout",
     "output_type": "stream",
     "text": [
      "Collecting reproject\n",
      "  Downloading reproject-0.13.0-cp38-cp38-manylinux_2_17_x86_64.manylinux2014_x86_64.whl (1.6 MB)\n",
      "\u001b[K     |████████████████████████████████| 1.6 MB 8.8 MB/s eta 0:00:01   | 1.4 MB 8.8 MB/s eta 0:00:01\n",
      "\u001b[?25hRequirement already satisfied: numpy>=1.20 in /home/idies/miniconda3/envs/py38/lib/python3.8/site-packages (from reproject) (1.24.4)\n",
      "Requirement already satisfied: astropy>=5.0 in /home/idies/miniconda3/envs/py38/lib/python3.8/site-packages (from reproject) (5.2.2)\n",
      "Requirement already satisfied: astropy-healpix>=0.6 in /home/idies/miniconda3/envs/py38/lib/python3.8/site-packages (from reproject) (0.7)\n",
      "Requirement already satisfied: scipy>=1.5 in /home/idies/miniconda3/envs/py38/lib/python3.8/site-packages (from reproject) (1.10.1)\n",
      "Collecting dask[array]>=2021.8\n",
      "  Downloading dask-2023.5.0-py3-none-any.whl (1.2 MB)\n",
      "\u001b[K     |████████████████████████████████| 1.2 MB 28.0 MB/s eta 0:00:01                        | 256 kB 28.0 MB/s eta 0:00:01\n",
      "\u001b[?25hRequirement already satisfied: zarr in /home/idies/miniconda3/envs/py38/lib/python3.8/site-packages (from reproject) (2.6.1)\n",
      "Requirement already satisfied: fsspec in /home/idies/miniconda3/envs/py38/lib/python3.8/site-packages (from reproject) (0.8.3)\n",
      "Requirement already satisfied: cloudpickle in /home/idies/miniconda3/envs/py38/lib/python3.8/site-packages (from reproject) (1.6.0)\n",
      "Requirement already satisfied: pyerfa>=2.0 in /home/idies/miniconda3/envs/py38/lib/python3.8/site-packages (from astropy>=5.0->reproject) (2.0.0.3)\n",
      "Requirement already satisfied: PyYAML>=3.13 in /home/idies/miniconda3/envs/py38/lib/python3.8/site-packages (from astropy>=5.0->reproject) (5.3.1)\n",
      "Requirement already satisfied: packaging>=19.0 in /home/idies/miniconda3/envs/py38/lib/python3.8/site-packages (from astropy>=5.0->reproject) (20.4)\n",
      "Collecting partd>=1.2.0\n",
      "  Downloading partd-1.4.1-py3-none-any.whl (18 kB)\n",
      "Requirement already satisfied: importlib-metadata>=4.13.0 in /home/idies/miniconda3/envs/py38/lib/python3.8/site-packages (from dask[array]>=2021.8->reproject) (8.5.0)\n",
      "Collecting click>=8.0\n",
      "  Downloading click-8.1.8-py3-none-any.whl (98 kB)\n",
      "\u001b[K     |████████████████████████████████| 98 kB 7.1 MB/s  eta 0:00:01\n",
      "\u001b[?25hRequirement already satisfied: toolz>=0.10.0 in /home/idies/miniconda3/envs/py38/lib/python3.8/site-packages (from dask[array]>=2021.8->reproject) (0.11.1)\n",
      "Requirement already satisfied: asciitree in /home/idies/miniconda3/envs/py38/lib/python3.8/site-packages (from zarr->reproject) (0.3.3)\n",
      "Requirement already satisfied: numcodecs>=0.6.4 in /home/idies/miniconda3/envs/py38/lib/python3.8/site-packages (from zarr->reproject) (0.7.3)\n",
      "Requirement already satisfied: fasteners in /home/idies/miniconda3/envs/py38/lib/python3.8/site-packages (from zarr->reproject) (0.16)\n",
      "Requirement already satisfied: six in /home/idies/miniconda3/envs/py38/lib/python3.8/site-packages (from packaging>=19.0->astropy>=5.0->reproject) (1.15.0)\n",
      "Requirement already satisfied: pyparsing>=2.0.2 in /home/idies/miniconda3/envs/py38/lib/python3.8/site-packages (from packaging>=19.0->astropy>=5.0->reproject) (2.4.7)\n",
      "Requirement already satisfied: locket in /home/idies/miniconda3/envs/py38/lib/python3.8/site-packages (from partd>=1.2.0->dask[array]>=2021.8->reproject) (0.2.0)\n",
      "Collecting zipp>=3.20\n",
      "  Using cached zipp-3.20.2-py3-none-any.whl (9.2 kB)\n",
      "Installing collected packages: partd, click, dask, reproject, zipp\n",
      "  Attempting uninstall: partd\n",
      "    Found existing installation: partd 1.1.0\n",
      "    Uninstalling partd-1.1.0:\n",
      "      Successfully uninstalled partd-1.1.0\n",
      "  Attempting uninstall: click\n",
      "    Found existing installation: click 7.1.2\n",
      "    Uninstalling click-7.1.2:\n",
      "      Successfully uninstalled click-7.1.2\n",
      "  Attempting uninstall: dask\n",
      "    Found existing installation: dask 2.30.0\n",
      "    Uninstalling dask-2.30.0:\n",
      "      Successfully uninstalled dask-2.30.0\n",
      "  Attempting uninstall: zipp\n",
      "    Found existing installation: zipp 3.4.0\n",
      "    Uninstalling zipp-3.4.0:\n",
      "      Successfully uninstalled zipp-3.4.0\n",
      "\u001b[31mERROR: After October 2020 you may experience errors when installing or updating packages. This is because pip will change the way that it resolves dependency conflicts.\n",
      "\n",
      "We recommend you use --use-feature=2020-resolver to test your packages with the new resolver before it becomes the default.\n",
      "\n",
      "rasterio 1.1.8 requires click<8,>=4.0, but you'll have click 8.1.8 which is incompatible.\n",
      "fiona 1.8.18 requires click<8,>=4.0, but you'll have click 8.1.8 which is incompatible.\n",
      "dask 2023.5.0 requires fsspec>=2021.09.0, but you'll have fsspec 0.8.3 which is incompatible.\n",
      "cligj 0.7.1 requires click<8,>=4.0, but you'll have click 8.1.8 which is incompatible.\n",
      "asdf 2.15.0 requires pyyaml>=5.4.1, but you'll have pyyaml 5.3.1 which is incompatible.\u001b[0m\n",
      "Successfully installed click-8.1.8 dask-2023.5.0 partd-1.4.1 reproject-0.13.0 zipp-3.20.2\n",
      "Note: you may need to restart the kernel to use updated packages.\n"
     ]
    }
   ],
   "source": [
    "pip install reproject"
   ]
  },
  {
   "cell_type": "code",
   "execution_count": 40,
   "id": "f58992ca",
   "metadata": {},
   "outputs": [
    {
     "name": "stdout",
     "output_type": "stream",
     "text": [
      "Requirement already satisfied: reproject in /home/idies/miniconda3/envs/py38/lib/python3.8/site-packages (0.13.0)\n",
      "Collecting radio-beam\n",
      "  Downloading radio_beam-0.3.9-py3-none-any.whl (73 kB)\n",
      "\u001b[K     |████████████████████████████████| 73 kB 1.7 MB/s eta 0:00:011\n",
      "\u001b[?25hRequirement already satisfied: astropy>=5.0 in /home/idies/miniconda3/envs/py38/lib/python3.8/site-packages (from reproject) (5.2.2)\n",
      "Requirement already satisfied: cloudpickle in /home/idies/miniconda3/envs/py38/lib/python3.8/site-packages (from reproject) (1.6.0)\n",
      "Requirement already satisfied: zarr in /home/idies/miniconda3/envs/py38/lib/python3.8/site-packages (from reproject) (2.6.1)\n",
      "Requirement already satisfied: dask[array]>=2021.8 in /home/idies/miniconda3/envs/py38/lib/python3.8/site-packages (from reproject) (2023.5.0)\n",
      "Requirement already satisfied: fsspec in /home/idies/miniconda3/envs/py38/lib/python3.8/site-packages (from reproject) (0.8.3)\n",
      "Requirement already satisfied: scipy>=1.5 in /home/idies/miniconda3/envs/py38/lib/python3.8/site-packages (from reproject) (1.10.1)\n",
      "Requirement already satisfied: astropy-healpix>=0.6 in /home/idies/miniconda3/envs/py38/lib/python3.8/site-packages (from reproject) (0.7)\n",
      "Requirement already satisfied: numpy>=1.20 in /home/idies/miniconda3/envs/py38/lib/python3.8/site-packages (from reproject) (1.24.4)\n",
      "Requirement already satisfied: packaging>=19.0 in /home/idies/miniconda3/envs/py38/lib/python3.8/site-packages (from astropy>=5.0->reproject) (20.4)\n",
      "Requirement already satisfied: pyerfa>=2.0 in /home/idies/miniconda3/envs/py38/lib/python3.8/site-packages (from astropy>=5.0->reproject) (2.0.0.3)\n",
      "Requirement already satisfied: PyYAML>=3.13 in /home/idies/miniconda3/envs/py38/lib/python3.8/site-packages (from astropy>=5.0->reproject) (5.3.1)\n",
      "Requirement already satisfied: asciitree in /home/idies/miniconda3/envs/py38/lib/python3.8/site-packages (from zarr->reproject) (0.3.3)\n",
      "Requirement already satisfied: numcodecs>=0.6.4 in /home/idies/miniconda3/envs/py38/lib/python3.8/site-packages (from zarr->reproject) (0.7.3)\n",
      "Requirement already satisfied: fasteners in /home/idies/miniconda3/envs/py38/lib/python3.8/site-packages (from zarr->reproject) (0.16)\n",
      "Requirement already satisfied: click>=8.0 in /home/idies/miniconda3/envs/py38/lib/python3.8/site-packages (from dask[array]>=2021.8->reproject) (8.1.8)\n",
      "Requirement already satisfied: partd>=1.2.0 in /home/idies/miniconda3/envs/py38/lib/python3.8/site-packages (from dask[array]>=2021.8->reproject) (1.4.1)\n",
      "Requirement already satisfied: toolz>=0.10.0 in /home/idies/miniconda3/envs/py38/lib/python3.8/site-packages (from dask[array]>=2021.8->reproject) (0.11.1)\n",
      "Requirement already satisfied: importlib-metadata>=4.13.0 in /home/idies/miniconda3/envs/py38/lib/python3.8/site-packages (from dask[array]>=2021.8->reproject) (8.5.0)\n",
      "Requirement already satisfied: six in /home/idies/miniconda3/envs/py38/lib/python3.8/site-packages (from packaging>=19.0->astropy>=5.0->reproject) (1.15.0)\n",
      "Requirement already satisfied: pyparsing>=2.0.2 in /home/idies/miniconda3/envs/py38/lib/python3.8/site-packages (from packaging>=19.0->astropy>=5.0->reproject) (2.4.7)\n",
      "Requirement already satisfied: locket in /home/idies/miniconda3/envs/py38/lib/python3.8/site-packages (from partd>=1.2.0->dask[array]>=2021.8->reproject) (0.2.0)\n",
      "Requirement already satisfied: zipp>=3.20 in /home/idies/miniconda3/envs/py38/lib/python3.8/site-packages (from importlib-metadata>=4.13.0->dask[array]>=2021.8->reproject) (3.20.2)\n",
      "Installing collected packages: radio-beam\n",
      "Successfully installed radio-beam-0.3.9\n",
      "Note: you may need to restart the kernel to use updated packages.\n"
     ]
    }
   ],
   "source": [
    "pip install reproject radio-beam"
   ]
  },
  {
   "cell_type": "code",
   "execution_count": 15,
   "id": "65f338f2",
   "metadata": {},
   "outputs": [
    {
     "name": "stdout",
     "output_type": "stream",
     "text": [
      "0.13.0\n"
     ]
    }
   ],
   "source": [
    "import reproject\n",
    "from radio_beam import Beam\n",
    "print(reproject.__version__)\n"
   ]
  },
  {
   "cell_type": "markdown",
   "id": "d9e24b17",
   "metadata": {},
   "source": [
    "Trabajando con Jansky y ya no Jy/beam, esto me va a servir para poder de graficar de mejor maner los datos."
   ]
  },
  {
   "cell_type": "code",
   "execution_count": 23,
   "id": "c18d4952",
   "metadata": {},
   "outputs": [
    {
     "name": "stdout",
     "output_type": "stream",
     "text": [
      "Collecting photutils[all]\n",
      "  Downloading photutils-1.8.0-cp38-cp38-manylinux_2_5_x86_64.manylinux1_x86_64.manylinux_2_17_x86_64.manylinux2014_x86_64.whl (861 kB)\n",
      "\u001b[K     |████████████████████████████████| 861 kB 7.7 MB/s eta 0:00:01\n",
      "\u001b[?25hRequirement already satisfied: astropy>=5.0 in /home/idies/miniconda3/envs/py38/lib/python3.8/site-packages (from photutils[all]) (5.2.2)\n",
      "Requirement already satisfied: numpy>=1.21 in /home/idies/miniconda3/envs/py38/lib/python3.8/site-packages (from photutils[all]) (1.24.4)\n",
      "Requirement already satisfied: bottleneck; extra == \"all\" in /home/idies/miniconda3/envs/py38/lib/python3.8/site-packages (from photutils[all]) (1.3.2)\n",
      "Requirement already satisfied: matplotlib>=3.5.0; extra == \"all\" in /home/idies/miniconda3/envs/py38/lib/python3.8/site-packages (from photutils[all]) (3.7.5)\n",
      "Requirement already satisfied: rasterio; extra == \"all\" in /home/idies/miniconda3/envs/py38/lib/python3.8/site-packages (from photutils[all]) (1.1.8)\n",
      "Collecting scipy>=1.7.0; extra == \"all\"\n",
      "  Downloading scipy-1.10.1-cp38-cp38-manylinux_2_17_x86_64.manylinux2014_x86_64.whl (34.5 MB)\n",
      "\u001b[K     |████████████████████████████████| 34.5 MB 27.5 MB/s eta 0:00:01                    | 13.0 MB 24.4 MB/s eta 0:00:01   | 14.8 MB 24.4 MB/s eta 0:00:01  | 18.1 MB 24.4 MB/s eta 0:00:01█▏             | 19.7 MB 24.4 MB/s eta 0:00:01   | 21.4 MB 24.4 MB/s eta 0:00:01��███████▍          | 23.1 MB 24.4 MB/s eta 0:00:01��████████████████▎       | 26.2 MB 24.4 MB/s eta 0:00:01�████      | 28.1 MB 24.4 MB/s eta 0:00:01��████████▊    | 29.9 MB 24.4 MB/s eta 0:00:01��████████   | 31.3 MB 27.5 MB/s eta 0:00:01\n",
      "\u001b[?25hCollecting scikit-learn>=1.0; extra == \"all\"\n",
      "  Downloading scikit_learn-1.3.2-cp38-cp38-manylinux_2_17_x86_64.manylinux2014_x86_64.whl (11.1 MB)\n",
      "\u001b[K     |████████████████████████████████| 11.1 MB 32.9 MB/s eta 0:00:01██                             | 1.1 MB 32.9 MB/s eta 0:00:01              | 2.5 MB 32.9 MB/s eta 0:00:01     |████████████▉                   | 4.5 MB 32.9 MB/s eta 0:00:01█████████████▊              | 6.1 MB 32.9 MB/s eta 0:00:01��████████████████▉           | 7.2 MB 32.9 MB/s eta 0:00:01██████████████▊     | 9.2 MB 32.9 MB/s eta 0:00:01��███████████████████████▌| 10.9 MB 32.9 MB/s eta 0:00:01\n",
      "\u001b[?25hCollecting gwcs>=0.18; extra == \"all\"\n",
      "  Downloading gwcs-0.18.3-py3-none-any.whl (108 kB)\n",
      "\u001b[K     |████████████████████████████████| 108 kB 33.2 MB/s eta 0:00:01\n",
      "\u001b[?25hRequirement already satisfied: shapely; extra == \"all\" in /home/idies/miniconda3/envs/py38/lib/python3.8/site-packages (from photutils[all]) (1.7.1)\n",
      "Requirement already satisfied: tqdm; extra == \"all\" in /home/idies/miniconda3/envs/py38/lib/python3.8/site-packages (from photutils[all]) (4.50.2)\n",
      "Collecting scikit-image>=0.19.0; extra == \"all\"\n",
      "  Downloading scikit_image-0.21.0-cp38-cp38-manylinux_2_17_x86_64.manylinux2014_x86_64.whl (13.9 MB)\n",
      "\u001b[K     |████████████████████████████████| 13.9 MB 30.4 MB/s eta 0:00:01/s eta 0:00:01       | 1.6 MB 30.4 MB/s eta 0:00:010.4 MB/s eta 0:00:01 |█████████████████████▋          | 9.3 MB 30.4 MB/s eta 0:00:01��████████████████████████▌      | 11.0 MB 30.4 MB/s eta 0:00:01  |██████████████████████████████▏ | 13.1 MB 30.4 MB/s eta 0:00:01\n",
      "\u001b[?25hRequirement already satisfied: packaging>=19.0 in /home/idies/miniconda3/envs/py38/lib/python3.8/site-packages (from astropy>=5.0->photutils[all]) (20.4)\n",
      "Requirement already satisfied: PyYAML>=3.13 in /home/idies/miniconda3/envs/py38/lib/python3.8/site-packages (from astropy>=5.0->photutils[all]) (5.3.1)\n",
      "Requirement already satisfied: pyerfa>=2.0 in /home/idies/miniconda3/envs/py38/lib/python3.8/site-packages (from astropy>=5.0->photutils[all]) (2.0.0.3)\n",
      "Requirement already satisfied: pyparsing>=2.3.1 in /home/idies/miniconda3/envs/py38/lib/python3.8/site-packages (from matplotlib>=3.5.0; extra == \"all\"->photutils[all]) (2.4.7)\n",
      "Requirement already satisfied: cycler>=0.10 in /home/idies/miniconda3/envs/py38/lib/python3.8/site-packages (from matplotlib>=3.5.0; extra == \"all\"->photutils[all]) (0.10.0)\n",
      "Requirement already satisfied: python-dateutil>=2.7 in /home/idies/miniconda3/envs/py38/lib/python3.8/site-packages (from matplotlib>=3.5.0; extra == \"all\"->photutils[all]) (2.8.0)\n",
      "Requirement already satisfied: contourpy>=1.0.1 in /home/idies/miniconda3/envs/py38/lib/python3.8/site-packages (from matplotlib>=3.5.0; extra == \"all\"->photutils[all]) (1.1.1)\n",
      "Requirement already satisfied: pillow>=6.2.0 in /home/idies/miniconda3/envs/py38/lib/python3.8/site-packages (from matplotlib>=3.5.0; extra == \"all\"->photutils[all]) (8.0.1)\n",
      "Requirement already satisfied: fonttools>=4.22.0 in /home/idies/miniconda3/envs/py38/lib/python3.8/site-packages (from matplotlib>=3.5.0; extra == \"all\"->photutils[all]) (4.57.0)\n",
      "Requirement already satisfied: kiwisolver>=1.0.1 in /home/idies/miniconda3/envs/py38/lib/python3.8/site-packages (from matplotlib>=3.5.0; extra == \"all\"->photutils[all]) (1.3.0)\n",
      "Requirement already satisfied: importlib-resources>=3.2.0; python_version < \"3.10\" in /home/idies/miniconda3/envs/py38/lib/python3.8/site-packages (from matplotlib>=3.5.0; extra == \"all\"->photutils[all]) (6.4.5)\n",
      "Requirement already satisfied: attrs in /home/idies/miniconda3/envs/py38/lib/python3.8/site-packages (from rasterio; extra == \"all\"->photutils[all]) (20.3.0)\n",
      "Requirement already satisfied: click<8,>=4.0 in /home/idies/miniconda3/envs/py38/lib/python3.8/site-packages (from rasterio; extra == \"all\"->photutils[all]) (7.1.2)\n",
      "Requirement already satisfied: cligj>=0.5 in /home/idies/miniconda3/envs/py38/lib/python3.8/site-packages (from rasterio; extra == \"all\"->photutils[all]) (0.7.1)\n",
      "Requirement already satisfied: click-plugins in /home/idies/miniconda3/envs/py38/lib/python3.8/site-packages (from rasterio; extra == \"all\"->photutils[all]) (1.1.1)\n",
      "Requirement already satisfied: snuggs>=1.4.1 in /home/idies/miniconda3/envs/py38/lib/python3.8/site-packages (from rasterio; extra == \"all\"->photutils[all]) (1.4.7)\n",
      "Requirement already satisfied: affine in /home/idies/miniconda3/envs/py38/lib/python3.8/site-packages (from rasterio; extra == \"all\"->photutils[all]) (2.3.0)\n",
      "Requirement already satisfied: threadpoolctl>=2.0.0 in /home/idies/miniconda3/envs/py38/lib/python3.8/site-packages (from scikit-learn>=1.0; extra == \"all\"->photutils[all]) (2.1.0)\n",
      "Collecting joblib>=1.1.1\n",
      "  Downloading joblib-1.4.2-py3-none-any.whl (301 kB)\n",
      "\u001b[K     |████████████████████████████████| 301 kB 29.8 MB/s eta 0:00:01��█████████████▉         | 215 kB 29.8 MB/s eta 0:00:01\n",
      "\u001b[?25hCollecting asdf-astropy>=0.2.0\n",
      "  Downloading asdf_astropy-0.4.0-py3-none-any.whl (73 kB)\n",
      "\u001b[K     |████████████████████████████████| 73 kB 2.0 MB/s  eta 0:00:01\n",
      "\u001b[?25hCollecting asdf>=2.8.1\n",
      "  Downloading asdf-2.15.0-py3-none-any.whl (431 kB)\n",
      "\u001b[K     |████████████████████████████████| 431 kB 23.9 MB/s eta 0:00:01�████████████▋  | 399 kB 23.9 MB/s eta 0:00:01\n",
      "\u001b[?25hCollecting asdf-wcs-schemas\n",
      "  Downloading asdf_wcs_schemas-0.3.0-py3-none-any.whl (32 kB)\n",
      "Collecting networkx>=2.8\n",
      "  Downloading networkx-3.1-py3-none-any.whl (2.1 MB)\n",
      "\u001b[K     |████████████████████████████████| 2.1 MB 23.6 MB/s eta 0:00:01��██▉                         | 440 kB 23.6 MB/s eta 0:00:01\n",
      "\u001b[?25hCollecting lazy_loader>=0.2\n",
      "  Downloading lazy_loader-0.4-py3-none-any.whl (12 kB)\n",
      "Collecting imageio>=2.27\n",
      "  Downloading imageio-2.35.1-py3-none-any.whl (315 kB)\n",
      "\u001b[K     |████████████████████████████████| 315 kB 29.0 MB/s eta 0:00:01\n",
      "\u001b[?25hRequirement already satisfied: PyWavelets>=1.1.1 in /home/idies/miniconda3/envs/py38/lib/python3.8/site-packages (from scikit-image>=0.19.0; extra == \"all\"->photutils[all]) (1.1.1)\n",
      "Collecting tifffile>=2022.8.12\n",
      "  Downloading tifffile-2023.7.10-py3-none-any.whl (220 kB)\n",
      "\u001b[K     |████████████████████████████████| 220 kB 32.8 MB/s eta 0:00:01\n",
      "\u001b[?25hRequirement already satisfied: six in /home/idies/miniconda3/envs/py38/lib/python3.8/site-packages (from packaging>=19.0->astropy>=5.0->photutils[all]) (1.15.0)\n",
      "Requirement already satisfied: zipp>=3.1.0; python_version < \"3.10\" in /home/idies/miniconda3/envs/py38/lib/python3.8/site-packages (from importlib-resources>=3.2.0; python_version < \"3.10\"->matplotlib>=3.5.0; extra == \"all\"->photutils[all]) (3.4.0)\n",
      "Collecting asdf-transform-schemas>=0.2.2\n",
      "  Downloading asdf_transform_schemas-0.4.0-py3-none-any.whl (196 kB)\n",
      "\u001b[K     |████████████████████████████████| 196 kB 33.0 MB/s eta 0:00:01\n"
     ]
    },
    {
     "name": "stdout",
     "output_type": "stream",
     "text": [
      "\u001b[?25hCollecting asdf-coordinates-schemas>=0.1\n",
      "  Downloading asdf_coordinates_schemas-0.2.0-py3-none-any.whl (19 kB)\n",
      "Collecting jsonschema<4.18,>=4.0.1\n",
      "  Downloading jsonschema-4.17.3-py3-none-any.whl (90 kB)\n",
      "\u001b[K     |████████████████████████████████| 90 kB 7.2 MB/s  eta 0:00:01\n",
      "\u001b[?25hCollecting semantic-version>=2.8\n",
      "  Downloading semantic_version-2.10.0-py2.py3-none-any.whl (15 kB)\n",
      "Collecting asdf-unit-schemas>=0.1\n",
      "  Downloading asdf_unit_schemas-0.2.0-py3-none-any.whl (4.0 kB)\n",
      "Collecting asdf-standard>=1.0.1\n",
      "  Downloading asdf_standard-1.0.3-py3-none-any.whl (71 kB)\n",
      "\u001b[K     |████████████████████████████████| 71 kB 72 kB/s s eta 0:00:01\n",
      "\u001b[?25hCollecting importlib-metadata>=4.11.4\n",
      "  Using cached importlib_metadata-8.5.0-py3-none-any.whl (26 kB)\n",
      "Collecting jmespath>=0.6.2\n",
      "  Downloading jmespath-1.0.1-py3-none-any.whl (20 kB)\n",
      "Collecting pkgutil-resolve-name>=1.3.10; python_version < \"3.9\"\n",
      "  Downloading pkgutil_resolve_name-1.3.10-py3-none-any.whl (4.7 kB)\n",
      "Requirement already satisfied: pyrsistent!=0.17.0,!=0.17.1,!=0.17.2,>=0.14.0 in /home/idies/miniconda3/envs/py38/lib/python3.8/site-packages (from jsonschema<4.18,>=4.0.1->asdf>=2.8.1->gwcs>=0.18; extra == \"all\"->photutils[all]) (0.17.3)\n",
      "Installing collected packages: scipy, joblib, scikit-learn, asdf-standard, asdf-transform-schemas, pkgutil-resolve-name, jsonschema, semantic-version, asdf-unit-schemas, importlib-metadata, jmespath, asdf, asdf-coordinates-schemas, asdf-astropy, asdf-wcs-schemas, gwcs, networkx, lazy-loader, imageio, tifffile, scikit-image, photutils\n",
      "  Attempting uninstall: scipy\n",
      "    Found existing installation: scipy 1.6.0\n",
      "    Uninstalling scipy-1.6.0:\n",
      "      Successfully uninstalled scipy-1.6.0\n",
      "  Attempting uninstall: joblib\n",
      "    Found existing installation: joblib 0.17.0\n",
      "    Uninstalling joblib-0.17.0:\n",
      "      Successfully uninstalled joblib-0.17.0\n",
      "  Attempting uninstall: scikit-learn\n",
      "    Found existing installation: scikit-learn 0.23.2\n",
      "    Uninstalling scikit-learn-0.23.2:\n",
      "      Successfully uninstalled scikit-learn-0.23.2\n",
      "  Attempting uninstall: jsonschema\n",
      "    Found existing installation: jsonschema 3.2.0\n",
      "    Uninstalling jsonschema-3.2.0:\n",
      "      Successfully uninstalled jsonschema-3.2.0\n",
      "  Attempting uninstall: importlib-metadata\n",
      "    Found existing installation: importlib-metadata 2.0.0\n",
      "    Uninstalling importlib-metadata-2.0.0:\n",
      "      Successfully uninstalled importlib-metadata-2.0.0\n",
      "  Attempting uninstall: networkx\n",
      "    Found existing installation: networkx 2.5\n",
      "    Uninstalling networkx-2.5:\n",
      "      Successfully uninstalled networkx-2.5\n",
      "  Attempting uninstall: imageio\n",
      "    Found existing installation: imageio 2.9.0\n",
      "    Uninstalling imageio-2.9.0:\n",
      "      Successfully uninstalled imageio-2.9.0\n",
      "  Attempting uninstall: tifffile\n",
      "    Found existing installation: tifffile 2020.10.1\n",
      "    Uninstalling tifffile-2020.10.1:\n",
      "      Successfully uninstalled tifffile-2020.10.1\n",
      "  Attempting uninstall: scikit-image\n",
      "    Found existing installation: scikit-image 0.17.2\n",
      "    Uninstalling scikit-image-0.17.2:\n",
      "      Successfully uninstalled scikit-image-0.17.2\n",
      "\u001b[31mERROR: After October 2020 you may experience errors when installing or updating packages. This is because pip will change the way that it resolves dependency conflicts.\n",
      "\n",
      "We recommend you use --use-feature=2020-resolver to test your packages with the new resolver before it becomes the default.\n",
      "\n",
      "pointpats 2.2.0 requires opencv-contrib-python>=4.2.0, which is not installed.\n",
      "tensorflow 2.3.0 requires h5py<2.11.0,>=2.10.0, but you'll have h5py 3.11.0 which is incompatible.\n",
      "tensorflow 2.3.0 requires keras-preprocessing<1.2,>=1.1.1, but you'll have keras-preprocessing 1.1.0 which is incompatible.\n",
      "tensorflow 2.3.0 requires numpy<1.19.0,>=1.16.0, but you'll have numpy 1.24.4 which is incompatible.\n",
      "tensorflow 2.3.0 requires scipy==1.4.1, but you'll have scipy 1.10.1 which is incompatible.\n",
      "scikit-image 0.21.0 requires packaging>=21, but you'll have packaging 20.4 which is incompatible.\n",
      "scikit-image 0.21.0 requires pillow>=9.0.1, but you'll have pillow 8.0.1 which is incompatible.\n",
      "importlib-metadata 8.5.0 requires zipp>=3.20, but you'll have zipp 3.4.0 which is incompatible.\n",
      "imageio 2.35.1 requires pillow>=8.3.2, but you'll have pillow 8.0.1 which is incompatible.\n",
      "asdf 2.15.0 requires pyyaml>=5.4.1, but you'll have pyyaml 5.3.1 which is incompatible.\u001b[0m\n",
      "Successfully installed asdf-2.15.0 asdf-astropy-0.4.0 asdf-coordinates-schemas-0.2.0 asdf-standard-1.0.3 asdf-transform-schemas-0.4.0 asdf-unit-schemas-0.2.0 asdf-wcs-schemas-0.3.0 gwcs-0.18.3 imageio-2.35.1 importlib-metadata-8.5.0 jmespath-1.0.1 joblib-1.4.2 jsonschema-4.17.3 lazy-loader-0.4 networkx-3.1 photutils-1.8.0 pkgutil-resolve-name-1.3.10 scikit-image-0.21.0 scikit-learn-1.3.2 scipy-1.10.1 semantic-version-2.10.0 tifffile-2023.7.10\n",
      "Note: you may need to restart the kernel to use updated packages.\n"
     ]
    }
   ],
   "source": [
    "pip install \"photutils[all]\""
   ]
  },
  {
   "cell_type": "code",
   "execution_count": null,
   "id": "1c5bbb9f",
   "metadata": {},
   "outputs": [],
   "source": []
  }
 ],
 "metadata": {
  "kernelspec": {
   "display_name": "Python 3.8 (py38)",
   "language": "python",
   "name": "py38"
  },
  "language_info": {
   "codemirror_mode": {
    "name": "ipython",
    "version": 3
   },
   "file_extension": ".py",
   "mimetype": "text/x-python",
   "name": "python",
   "nbconvert_exporter": "python",
   "pygments_lexer": "ipython3",
   "version": "3.8.5"
  }
 },
 "nbformat": 4,
 "nbformat_minor": 5
}
